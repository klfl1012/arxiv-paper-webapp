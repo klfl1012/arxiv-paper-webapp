{
 "cells": [
  {
   "cell_type": "code",
   "execution_count": 1,
   "metadata": {},
   "outputs": [],
   "source": [
    "import arxiv"
   ]
  },
  {
   "cell_type": "code",
   "execution_count": 2,
   "metadata": {},
   "outputs": [],
   "source": [
    "client = arxiv.Client()\n",
    "\n",
    "search = arxiv.Search(\n",
    "    query = \"quantum\",\n",
    "    max_results= 25,\n",
    "    sort_by = arxiv.SortCriterion.SubmittedDate\n",
    ")"
   ]
  },
  {
   "cell_type": "code",
   "execution_count": 3,
   "metadata": {},
   "outputs": [],
   "source": [
    "results = list(client.results(search))"
   ]
  },
  {
   "cell_type": "code",
   "execution_count": 4,
   "metadata": {},
   "outputs": [],
   "source": [
    "import pandas as pd\n",
    "\n",
    "# Erstellen einer leeren Liste, um die Daten für den DataFrame zu sammeln\n",
    "data = []\n",
    "\n",
    "# Durchlaufen der Ergebnisse und Sammeln der Daten\n",
    "for r in results:\n",
    "    data.append({\n",
    "        'title': r.title,\n",
    "        'authors': ', '.join([author.name for author in r.authors]),\n",
    "        'published': r.published,\n",
    "        'summary': r.summary,\n",
    "        'primary_category': r.primary_category,\n",
    "        'categories': ', '.join(r.categories),\n",
    "        \"links\": [link.href for link in r.links]\n",
    "    })\n",
    "\n",
    "# Erstellen des DataFrame aus der gesammelten Datenliste\n",
    "df = pd.DataFrame(data)\n",
    "df[\"published\"] = pd.to_datetime(df[\"published\"]).dt.date\n"
   ]
  },
  {
   "cell_type": "code",
   "execution_count": 5,
   "metadata": {},
   "outputs": [
    {
     "data": {
      "text/html": [
       "<div>\n",
       "<style scoped>\n",
       "    .dataframe tbody tr th:only-of-type {\n",
       "        vertical-align: middle;\n",
       "    }\n",
       "\n",
       "    .dataframe tbody tr th {\n",
       "        vertical-align: top;\n",
       "    }\n",
       "\n",
       "    .dataframe thead th {\n",
       "        text-align: right;\n",
       "    }\n",
       "</style>\n",
       "<table border=\"1\" class=\"dataframe\">\n",
       "  <thead>\n",
       "    <tr style=\"text-align: right;\">\n",
       "      <th></th>\n",
       "      <th>title</th>\n",
       "      <th>authors</th>\n",
       "      <th>published</th>\n",
       "      <th>summary</th>\n",
       "      <th>primary_category</th>\n",
       "      <th>categories</th>\n",
       "      <th>links</th>\n",
       "    </tr>\n",
       "  </thead>\n",
       "  <tbody>\n",
       "    <tr>\n",
       "      <th>0</th>\n",
       "      <td>Non-equilibrium dynamics of symmetry-resolved ...</td>\n",
       "      <td>Katja Klobas</td>\n",
       "      <td>2024-07-31</td>\n",
       "      <td>Symmetry resolved entanglement and entanglemen...</td>\n",
       "      <td>cond-mat.stat-mech</td>\n",
       "      <td>cond-mat.stat-mech, nlin.CG, nlin.SI, quant-ph</td>\n",
       "      <td>[http://arxiv.org/abs/2407.21793v1, http://arx...</td>\n",
       "    </tr>\n",
       "    <tr>\n",
       "      <th>1</th>\n",
       "      <td>Non-equilibrium dynamics of charged dual-unita...</td>\n",
       "      <td>Alessandro Foligno, Pasquale Calabrese, Bruno ...</td>\n",
       "      <td>2024-07-31</td>\n",
       "      <td>The interplay between symmetries and entanglem...</td>\n",
       "      <td>cond-mat.stat-mech</td>\n",
       "      <td>cond-mat.stat-mech, hep-th, math-ph, math.MP, ...</td>\n",
       "      <td>[http://arxiv.org/abs/2407.21786v1, http://arx...</td>\n",
       "    </tr>\n",
       "    <tr>\n",
       "      <th>2</th>\n",
       "      <td>A concrete construction of a topological opera...</td>\n",
       "      <td>Masashi Kawahira</td>\n",
       "      <td>2024-07-31</td>\n",
       "      <td>Factorization algebras play a central role in ...</td>\n",
       "      <td>hep-th</td>\n",
       "      <td>hep-th, math-ph, math.MP</td>\n",
       "      <td>[http://arxiv.org/abs/2407.21784v1, http://arx...</td>\n",
       "    </tr>\n",
       "    <tr>\n",
       "      <th>3</th>\n",
       "      <td>Lanczos for lattice QCD matrix elements</td>\n",
       "      <td>Daniel C. Hackett, Michael L. Wagman</td>\n",
       "      <td>2024-07-31</td>\n",
       "      <td>Recent work found that an analysis formalism b...</td>\n",
       "      <td>hep-lat</td>\n",
       "      <td>hep-lat</td>\n",
       "      <td>[http://arxiv.org/abs/2407.21777v1, http://arx...</td>\n",
       "    </tr>\n",
       "    <tr>\n",
       "      <th>4</th>\n",
       "      <td>Properties of Krylov state complexity in qubit...</td>\n",
       "      <td>Siddharth Seetharaman, Chetanya Singh, Rejish ...</td>\n",
       "      <td>2024-07-31</td>\n",
       "      <td>We analyze the properties of Krylov state comp...</td>\n",
       "      <td>quant-ph</td>\n",
       "      <td>quant-ph, cond-mat.quant-gas</td>\n",
       "      <td>[http://arxiv.org/abs/2407.21776v2, http://arx...</td>\n",
       "    </tr>\n",
       "    <tr>\n",
       "      <th>5</th>\n",
       "      <td>Shadow Hamiltonian Simulation</td>\n",
       "      <td>Rolando D. Somma, Robbie King, Robin Kothari, ...</td>\n",
       "      <td>2024-07-31</td>\n",
       "      <td>We present shadow Hamiltonian simulation, a fr...</td>\n",
       "      <td>quant-ph</td>\n",
       "      <td>quant-ph</td>\n",
       "      <td>[http://arxiv.org/abs/2407.21775v1, http://arx...</td>\n",
       "    </tr>\n",
       "    <tr>\n",
       "      <th>6</th>\n",
       "      <td>Spurious Solar-Wind Effects on Acceleration No...</td>\n",
       "      <td>Arnold Yang, Indie Desiderio-Sloane, Grant Dav...</td>\n",
       "      <td>2024-07-31</td>\n",
       "      <td>Spurious solar-wind effects are a potential no...</td>\n",
       "      <td>physics.space-ph</td>\n",
       "      <td>physics.space-ph, astro-ph.IM, gr-qc</td>\n",
       "      <td>[http://arxiv.org/abs/2407.21774v1, http://arx...</td>\n",
       "    </tr>\n",
       "    <tr>\n",
       "      <th>7</th>\n",
       "      <td>Engineering a multi-level bath for transmon wi...</td>\n",
       "      <td>Xi Cao, Maria Mucci, Gangqiang Liu, David Pekk...</td>\n",
       "      <td>2024-07-31</td>\n",
       "      <td>A photonic system with a tunable bath environm...</td>\n",
       "      <td>quant-ph</td>\n",
       "      <td>quant-ph</td>\n",
       "      <td>[http://arxiv.org/abs/2407.21765v1, http://arx...</td>\n",
       "    </tr>\n",
       "    <tr>\n",
       "      <th>8</th>\n",
       "      <td>Energy Transport Among Highly-Polarized Atoms</td>\n",
       "      <td>Catherine D. Opsahl, Yuan Jiang, Samantha A. G...</td>\n",
       "      <td>2024-07-31</td>\n",
       "      <td>A static electric field of a few V/cm shifts t...</td>\n",
       "      <td>physics.atom-ph</td>\n",
       "      <td>physics.atom-ph, quant-ph</td>\n",
       "      <td>[http://arxiv.org/abs/2407.21764v1, http://arx...</td>\n",
       "    </tr>\n",
       "    <tr>\n",
       "      <th>9</th>\n",
       "      <td>Minimal Quantum Circuits for Simulating Fibona...</td>\n",
       "      <td>Sary Bseiso, Joel Pommerening, Richard R. Alle...</td>\n",
       "      <td>2024-07-31</td>\n",
       "      <td>The Fibonacci topological order is the prime c...</td>\n",
       "      <td>quant-ph</td>\n",
       "      <td>quant-ph, cond-mat.str-el, math-ph, math.MP</td>\n",
       "      <td>[http://arxiv.org/abs/2407.21761v1, http://arx...</td>\n",
       "    </tr>\n",
       "    <tr>\n",
       "      <th>10</th>\n",
       "      <td>No-Go Theorems for Universal Entanglement Puri...</td>\n",
       "      <td>Allen Zang, Xinan Chen, Eric Chitambar, Martin...</td>\n",
       "      <td>2024-07-31</td>\n",
       "      <td>An entanglement purification protocol (EPP) ai...</td>\n",
       "      <td>quant-ph</td>\n",
       "      <td>quant-ph</td>\n",
       "      <td>[http://arxiv.org/abs/2407.21760v1, http://arx...</td>\n",
       "    </tr>\n",
       "    <tr>\n",
       "      <th>11</th>\n",
       "      <td>Energy-time uncertainty relation from entropy ...</td>\n",
       "      <td>Nana Cabo Bizet, Octavio Obregón, Wilfredo Yup...</td>\n",
       "      <td>2024-07-31</td>\n",
       "      <td>The Generalized Uncertainty Principle (GUP) mo...</td>\n",
       "      <td>hep-th</td>\n",
       "      <td>hep-th, gr-qc</td>\n",
       "      <td>[http://arxiv.org/abs/2407.21746v1, http://arx...</td>\n",
       "    </tr>\n",
       "    <tr>\n",
       "      <th>12</th>\n",
       "      <td>Rabinowitz Floer homology as a Tate vector space</td>\n",
       "      <td>Kai Cieliebak, Alexandru Oancea</td>\n",
       "      <td>2024-07-31</td>\n",
       "      <td>We show that the category of linearly topologi...</td>\n",
       "      <td>math.SG</td>\n",
       "      <td>math.SG, math.FA, math.QA, 57R58, 46A20, 46M05...</td>\n",
       "      <td>[http://arxiv.org/abs/2407.21741v1, http://arx...</td>\n",
       "    </tr>\n",
       "    <tr>\n",
       "      <th>13</th>\n",
       "      <td>An open-source framework for quantum hardware ...</td>\n",
       "      <td>Edoardo Pedicillo, Alessandro Candido, Stavros...</td>\n",
       "      <td>2024-07-31</td>\n",
       "      <td>The development of quantum computers needs rel...</td>\n",
       "      <td>quant-ph</td>\n",
       "      <td>quant-ph</td>\n",
       "      <td>[http://arxiv.org/abs/2407.21737v1, http://arx...</td>\n",
       "    </tr>\n",
       "    <tr>\n",
       "      <th>14</th>\n",
       "      <td>Linking quantum discord with Bayesian game theory</td>\n",
       "      <td>Adam Lowe</td>\n",
       "      <td>2024-07-31</td>\n",
       "      <td>Witnessing quantum correlation in real, practi...</td>\n",
       "      <td>quant-ph</td>\n",
       "      <td>quant-ph</td>\n",
       "      <td>[http://arxiv.org/abs/2407.21730v1, http://arx...</td>\n",
       "    </tr>\n",
       "    <tr>\n",
       "      <th>15</th>\n",
       "      <td>A General and Transferable Local Hybrid Functi...</td>\n",
       "      <td>Christof Holzer, Yannick J. Franzke</td>\n",
       "      <td>2024-07-31</td>\n",
       "      <td>Density functional theory has become the workh...</td>\n",
       "      <td>physics.chem-ph</td>\n",
       "      <td>physics.chem-ph</td>\n",
       "      <td>[http://arxiv.org/abs/2407.21727v1, http://arx...</td>\n",
       "    </tr>\n",
       "    <tr>\n",
       "      <th>16</th>\n",
       "      <td>Coordinating Decisions via Quantum Telepathy</td>\n",
       "      <td>Dawei Ding, Liang Jiang</td>\n",
       "      <td>2024-07-31</td>\n",
       "      <td>Quantum telepathy, or pseudotelepathy, is the ...</td>\n",
       "      <td>quant-ph</td>\n",
       "      <td>quant-ph</td>\n",
       "      <td>[http://arxiv.org/abs/2407.21723v1, http://arx...</td>\n",
       "    </tr>\n",
       "    <tr>\n",
       "      <th>17</th>\n",
       "      <td>Dephasing-assisted transport in a tight-bindin...</td>\n",
       "      <td>Samuel L. Jacob, Laetitia P. Bettman, Artur M....</td>\n",
       "      <td>2024-07-31</td>\n",
       "      <td>An environment interacting with a quantum syst...</td>\n",
       "      <td>cond-mat.stat-mech</td>\n",
       "      <td>cond-mat.stat-mech, cond-mat.mes-hall, quant-ph</td>\n",
       "      <td>[http://arxiv.org/abs/2407.21715v1, http://arx...</td>\n",
       "    </tr>\n",
       "    <tr>\n",
       "      <th>18</th>\n",
       "      <td>Private and Robust States for Distributed Quan...</td>\n",
       "      <td>Luís Bugalho, Majid Hassani, Yasser Omar, Dami...</td>\n",
       "      <td>2024-07-31</td>\n",
       "      <td>Distributed quantum sensing enables the estima...</td>\n",
       "      <td>quant-ph</td>\n",
       "      <td>quant-ph</td>\n",
       "      <td>[http://arxiv.org/abs/2407.21701v1, http://arx...</td>\n",
       "    </tr>\n",
       "    <tr>\n",
       "      <th>19</th>\n",
       "      <td>Four-loop two-mass tadpoles and the $ρ$ parameter</td>\n",
       "      <td>Samuel Abreu, Arnd Behring, Andrew McLeod, Ben...</td>\n",
       "      <td>2024-07-31</td>\n",
       "      <td>We calculate four-loop QCD corrections to the ...</td>\n",
       "      <td>hep-ph</td>\n",
       "      <td>hep-ph</td>\n",
       "      <td>[http://arxiv.org/abs/2407.21700v1, http://arx...</td>\n",
       "    </tr>\n",
       "    <tr>\n",
       "      <th>20</th>\n",
       "      <td>Experimentally probing Landauer's principle in...</td>\n",
       "      <td>Stefan Aimet, Mohammadamin Tajik, Gabrielle To...</td>\n",
       "      <td>2024-07-31</td>\n",
       "      <td>Landauer's principle bridges information theor...</td>\n",
       "      <td>quant-ph</td>\n",
       "      <td>quant-ph</td>\n",
       "      <td>[http://arxiv.org/abs/2407.21690v1, http://arx...</td>\n",
       "    </tr>\n",
       "    <tr>\n",
       "      <th>21</th>\n",
       "      <td>SQUIDs for detection of potential dark matter ...</td>\n",
       "      <td>Siddarth Sivakumar, Manan Agarwal, Hannah Rana</td>\n",
       "      <td>2024-07-31</td>\n",
       "      <td>Superconducting QUantum Interference Devices (...</td>\n",
       "      <td>astro-ph.IM</td>\n",
       "      <td>astro-ph.IM, physics.ins-det, quant-ph</td>\n",
       "      <td>[http://arxiv.org/abs/2407.21689v1, http://arx...</td>\n",
       "    </tr>\n",
       "    <tr>\n",
       "      <th>22</th>\n",
       "      <td>Twirled worlds: symmetry-induced failures of t...</td>\n",
       "      <td>Daniel Centeno, Marco Erba, David Schmid, John...</td>\n",
       "      <td>2024-07-31</td>\n",
       "      <td>Tomographic locality is a principle commonly u...</td>\n",
       "      <td>quant-ph</td>\n",
       "      <td>quant-ph</td>\n",
       "      <td>[http://arxiv.org/abs/2407.21688v1, http://arx...</td>\n",
       "    </tr>\n",
       "    <tr>\n",
       "      <th>23</th>\n",
       "      <td>Homogeneous Magnetic Flux in Rydberg Lattices</td>\n",
       "      <td>Joseph Eix, Rukmani Bai, Thierry Lahaye, Antoi...</td>\n",
       "      <td>2024-07-31</td>\n",
       "      <td>We present a method for generating homogeneous...</td>\n",
       "      <td>quant-ph</td>\n",
       "      <td>quant-ph, cond-mat.quant-gas</td>\n",
       "      <td>[http://arxiv.org/abs/2407.21681v1, http://arx...</td>\n",
       "    </tr>\n",
       "    <tr>\n",
       "      <th>24</th>\n",
       "      <td>Slow decay rate of correlations induced by lon...</td>\n",
       "      <td>Tanoy Kanti Konar, Leela Ganesh Chandra Lakkar...</td>\n",
       "      <td>2024-07-31</td>\n",
       "      <td>We examine the impact of long-range Dzyaloshin...</td>\n",
       "      <td>quant-ph</td>\n",
       "      <td>quant-ph, cond-mat.mes-hall, cond-mat.quant-ga...</td>\n",
       "      <td>[http://arxiv.org/abs/2407.21668v1, http://arx...</td>\n",
       "    </tr>\n",
       "  </tbody>\n",
       "</table>\n",
       "</div>"
      ],
      "text/plain": [
       "                                                title  \\\n",
       "0   Non-equilibrium dynamics of symmetry-resolved ...   \n",
       "1   Non-equilibrium dynamics of charged dual-unita...   \n",
       "2   A concrete construction of a topological opera...   \n",
       "3             Lanczos for lattice QCD matrix elements   \n",
       "4   Properties of Krylov state complexity in qubit...   \n",
       "5                       Shadow Hamiltonian Simulation   \n",
       "6   Spurious Solar-Wind Effects on Acceleration No...   \n",
       "7   Engineering a multi-level bath for transmon wi...   \n",
       "8       Energy Transport Among Highly-Polarized Atoms   \n",
       "9   Minimal Quantum Circuits for Simulating Fibona...   \n",
       "10  No-Go Theorems for Universal Entanglement Puri...   \n",
       "11  Energy-time uncertainty relation from entropy ...   \n",
       "12   Rabinowitz Floer homology as a Tate vector space   \n",
       "13  An open-source framework for quantum hardware ...   \n",
       "14  Linking quantum discord with Bayesian game theory   \n",
       "15  A General and Transferable Local Hybrid Functi...   \n",
       "16       Coordinating Decisions via Quantum Telepathy   \n",
       "17  Dephasing-assisted transport in a tight-bindin...   \n",
       "18  Private and Robust States for Distributed Quan...   \n",
       "19  Four-loop two-mass tadpoles and the $ρ$ parameter   \n",
       "20  Experimentally probing Landauer's principle in...   \n",
       "21  SQUIDs for detection of potential dark matter ...   \n",
       "22  Twirled worlds: symmetry-induced failures of t...   \n",
       "23      Homogeneous Magnetic Flux in Rydberg Lattices   \n",
       "24  Slow decay rate of correlations induced by lon...   \n",
       "\n",
       "                                              authors   published  \\\n",
       "0                                        Katja Klobas  2024-07-31   \n",
       "1   Alessandro Foligno, Pasquale Calabrese, Bruno ...  2024-07-31   \n",
       "2                                    Masashi Kawahira  2024-07-31   \n",
       "3                Daniel C. Hackett, Michael L. Wagman  2024-07-31   \n",
       "4   Siddharth Seetharaman, Chetanya Singh, Rejish ...  2024-07-31   \n",
       "5   Rolando D. Somma, Robbie King, Robin Kothari, ...  2024-07-31   \n",
       "6   Arnold Yang, Indie Desiderio-Sloane, Grant Dav...  2024-07-31   \n",
       "7   Xi Cao, Maria Mucci, Gangqiang Liu, David Pekk...  2024-07-31   \n",
       "8   Catherine D. Opsahl, Yuan Jiang, Samantha A. G...  2024-07-31   \n",
       "9   Sary Bseiso, Joel Pommerening, Richard R. Alle...  2024-07-31   \n",
       "10  Allen Zang, Xinan Chen, Eric Chitambar, Martin...  2024-07-31   \n",
       "11  Nana Cabo Bizet, Octavio Obregón, Wilfredo Yup...  2024-07-31   \n",
       "12                    Kai Cieliebak, Alexandru Oancea  2024-07-31   \n",
       "13  Edoardo Pedicillo, Alessandro Candido, Stavros...  2024-07-31   \n",
       "14                                          Adam Lowe  2024-07-31   \n",
       "15                Christof Holzer, Yannick J. Franzke  2024-07-31   \n",
       "16                            Dawei Ding, Liang Jiang  2024-07-31   \n",
       "17  Samuel L. Jacob, Laetitia P. Bettman, Artur M....  2024-07-31   \n",
       "18  Luís Bugalho, Majid Hassani, Yasser Omar, Dami...  2024-07-31   \n",
       "19  Samuel Abreu, Arnd Behring, Andrew McLeod, Ben...  2024-07-31   \n",
       "20  Stefan Aimet, Mohammadamin Tajik, Gabrielle To...  2024-07-31   \n",
       "21     Siddarth Sivakumar, Manan Agarwal, Hannah Rana  2024-07-31   \n",
       "22  Daniel Centeno, Marco Erba, David Schmid, John...  2024-07-31   \n",
       "23  Joseph Eix, Rukmani Bai, Thierry Lahaye, Antoi...  2024-07-31   \n",
       "24  Tanoy Kanti Konar, Leela Ganesh Chandra Lakkar...  2024-07-31   \n",
       "\n",
       "                                              summary    primary_category  \\\n",
       "0   Symmetry resolved entanglement and entanglemen...  cond-mat.stat-mech   \n",
       "1   The interplay between symmetries and entanglem...  cond-mat.stat-mech   \n",
       "2   Factorization algebras play a central role in ...              hep-th   \n",
       "3   Recent work found that an analysis formalism b...             hep-lat   \n",
       "4   We analyze the properties of Krylov state comp...            quant-ph   \n",
       "5   We present shadow Hamiltonian simulation, a fr...            quant-ph   \n",
       "6   Spurious solar-wind effects are a potential no...    physics.space-ph   \n",
       "7   A photonic system with a tunable bath environm...            quant-ph   \n",
       "8   A static electric field of a few V/cm shifts t...     physics.atom-ph   \n",
       "9   The Fibonacci topological order is the prime c...            quant-ph   \n",
       "10  An entanglement purification protocol (EPP) ai...            quant-ph   \n",
       "11  The Generalized Uncertainty Principle (GUP) mo...              hep-th   \n",
       "12  We show that the category of linearly topologi...             math.SG   \n",
       "13  The development of quantum computers needs rel...            quant-ph   \n",
       "14  Witnessing quantum correlation in real, practi...            quant-ph   \n",
       "15  Density functional theory has become the workh...     physics.chem-ph   \n",
       "16  Quantum telepathy, or pseudotelepathy, is the ...            quant-ph   \n",
       "17  An environment interacting with a quantum syst...  cond-mat.stat-mech   \n",
       "18  Distributed quantum sensing enables the estima...            quant-ph   \n",
       "19  We calculate four-loop QCD corrections to the ...              hep-ph   \n",
       "20  Landauer's principle bridges information theor...            quant-ph   \n",
       "21  Superconducting QUantum Interference Devices (...         astro-ph.IM   \n",
       "22  Tomographic locality is a principle commonly u...            quant-ph   \n",
       "23  We present a method for generating homogeneous...            quant-ph   \n",
       "24  We examine the impact of long-range Dzyaloshin...            quant-ph   \n",
       "\n",
       "                                           categories  \\\n",
       "0      cond-mat.stat-mech, nlin.CG, nlin.SI, quant-ph   \n",
       "1   cond-mat.stat-mech, hep-th, math-ph, math.MP, ...   \n",
       "2                            hep-th, math-ph, math.MP   \n",
       "3                                             hep-lat   \n",
       "4                        quant-ph, cond-mat.quant-gas   \n",
       "5                                            quant-ph   \n",
       "6                physics.space-ph, astro-ph.IM, gr-qc   \n",
       "7                                            quant-ph   \n",
       "8                           physics.atom-ph, quant-ph   \n",
       "9         quant-ph, cond-mat.str-el, math-ph, math.MP   \n",
       "10                                           quant-ph   \n",
       "11                                      hep-th, gr-qc   \n",
       "12  math.SG, math.FA, math.QA, 57R58, 46A20, 46M05...   \n",
       "13                                           quant-ph   \n",
       "14                                           quant-ph   \n",
       "15                                    physics.chem-ph   \n",
       "16                                           quant-ph   \n",
       "17    cond-mat.stat-mech, cond-mat.mes-hall, quant-ph   \n",
       "18                                           quant-ph   \n",
       "19                                             hep-ph   \n",
       "20                                           quant-ph   \n",
       "21             astro-ph.IM, physics.ins-det, quant-ph   \n",
       "22                                           quant-ph   \n",
       "23                       quant-ph, cond-mat.quant-gas   \n",
       "24  quant-ph, cond-mat.mes-hall, cond-mat.quant-ga...   \n",
       "\n",
       "                                                links  \n",
       "0   [http://arxiv.org/abs/2407.21793v1, http://arx...  \n",
       "1   [http://arxiv.org/abs/2407.21786v1, http://arx...  \n",
       "2   [http://arxiv.org/abs/2407.21784v1, http://arx...  \n",
       "3   [http://arxiv.org/abs/2407.21777v1, http://arx...  \n",
       "4   [http://arxiv.org/abs/2407.21776v2, http://arx...  \n",
       "5   [http://arxiv.org/abs/2407.21775v1, http://arx...  \n",
       "6   [http://arxiv.org/abs/2407.21774v1, http://arx...  \n",
       "7   [http://arxiv.org/abs/2407.21765v1, http://arx...  \n",
       "8   [http://arxiv.org/abs/2407.21764v1, http://arx...  \n",
       "9   [http://arxiv.org/abs/2407.21761v1, http://arx...  \n",
       "10  [http://arxiv.org/abs/2407.21760v1, http://arx...  \n",
       "11  [http://arxiv.org/abs/2407.21746v1, http://arx...  \n",
       "12  [http://arxiv.org/abs/2407.21741v1, http://arx...  \n",
       "13  [http://arxiv.org/abs/2407.21737v1, http://arx...  \n",
       "14  [http://arxiv.org/abs/2407.21730v1, http://arx...  \n",
       "15  [http://arxiv.org/abs/2407.21727v1, http://arx...  \n",
       "16  [http://arxiv.org/abs/2407.21723v1, http://arx...  \n",
       "17  [http://arxiv.org/abs/2407.21715v1, http://arx...  \n",
       "18  [http://arxiv.org/abs/2407.21701v1, http://arx...  \n",
       "19  [http://arxiv.org/abs/2407.21700v1, http://arx...  \n",
       "20  [http://arxiv.org/abs/2407.21690v1, http://arx...  \n",
       "21  [http://arxiv.org/abs/2407.21689v1, http://arx...  \n",
       "22  [http://arxiv.org/abs/2407.21688v1, http://arx...  \n",
       "23  [http://arxiv.org/abs/2407.21681v1, http://arx...  \n",
       "24  [http://arxiv.org/abs/2407.21668v1, http://arx...  "
      ]
     },
     "execution_count": 5,
     "metadata": {},
     "output_type": "execute_result"
    }
   ],
   "source": [
    "df"
   ]
  },
  {
   "cell_type": "code",
   "execution_count": 25,
   "metadata": {},
   "outputs": [
    {
     "name": "stderr",
     "output_type": "stream",
     "text": [
      "A parameter name that contains `beta` will be renamed internally to `bias`. Please use a different name to suppress this warning.\n",
      "A parameter name that contains `gamma` will be renamed internally to `weight`. Please use a different name to suppress this warning.\n",
      "A parameter name that contains `beta` will be renamed internally to `bias`. Please use a different name to suppress this warning.\n",
      "A parameter name that contains `gamma` will be renamed internally to `weight`. Please use a different name to suppress this warning.\n",
      "A parameter name that contains `beta` will be renamed internally to `bias`. Please use a different name to suppress this warning.\n",
      "A parameter name that contains `gamma` will be renamed internally to `weight`. Please use a different name to suppress this warning.\n",
      "A parameter name that contains `beta` will be renamed internally to `bias`. Please use a different name to suppress this warning.\n",
      "A parameter name that contains `gamma` will be renamed internally to `weight`. Please use a different name to suppress this warning.\n",
      "A parameter name that contains `beta` will be renamed internally to `bias`. Please use a different name to suppress this warning.\n",
      "A parameter name that contains `gamma` will be renamed internally to `weight`. Please use a different name to suppress this warning.\n",
      "A parameter name that contains `beta` will be renamed internally to `bias`. Please use a different name to suppress this warning.\n",
      "A parameter name that contains `gamma` will be renamed internally to `weight`. Please use a different name to suppress this warning.\n",
      "A parameter name that contains `beta` will be renamed internally to `bias`. Please use a different name to suppress this warning.\n",
      "A parameter name that contains `gamma` will be renamed internally to `weight`. Please use a different name to suppress this warning.\n",
      "A parameter name that contains `beta` will be renamed internally to `bias`. Please use a different name to suppress this warning.\n",
      "A parameter name that contains `gamma` will be renamed internally to `weight`. Please use a different name to suppress this warning.\n",
      "A parameter name that contains `beta` will be renamed internally to `bias`. Please use a different name to suppress this warning.\n",
      "A parameter name that contains `gamma` will be renamed internally to `weight`. Please use a different name to suppress this warning.\n",
      "A parameter name that contains `beta` will be renamed internally to `bias`. Please use a different name to suppress this warning.\n",
      "A parameter name that contains `gamma` will be renamed internally to `weight`. Please use a different name to suppress this warning.\n",
      "A parameter name that contains `beta` will be renamed internally to `bias`. Please use a different name to suppress this warning.\n",
      "A parameter name that contains `gamma` will be renamed internally to `weight`. Please use a different name to suppress this warning.\n",
      "A parameter name that contains `beta` will be renamed internally to `bias`. Please use a different name to suppress this warning.\n",
      "A parameter name that contains `gamma` will be renamed internally to `weight`. Please use a different name to suppress this warning.\n",
      "A parameter name that contains `beta` will be renamed internally to `bias`. Please use a different name to suppress this warning.\n",
      "A parameter name that contains `gamma` will be renamed internally to `weight`. Please use a different name to suppress this warning.\n",
      "A parameter name that contains `beta` will be renamed internally to `bias`. Please use a different name to suppress this warning.\n",
      "A parameter name that contains `gamma` will be renamed internally to `weight`. Please use a different name to suppress this warning.\n",
      "A parameter name that contains `beta` will be renamed internally to `bias`. Please use a different name to suppress this warning.\n",
      "A parameter name that contains `gamma` will be renamed internally to `weight`. Please use a different name to suppress this warning.\n",
      "A parameter name that contains `beta` will be renamed internally to `bias`. Please use a different name to suppress this warning.\n",
      "A parameter name that contains `gamma` will be renamed internally to `weight`. Please use a different name to suppress this warning.\n",
      "A parameter name that contains `beta` will be renamed internally to `bias`. Please use a different name to suppress this warning.\n",
      "A parameter name that contains `gamma` will be renamed internally to `weight`. Please use a different name to suppress this warning.\n",
      "A parameter name that contains `beta` will be renamed internally to `bias`. Please use a different name to suppress this warning.\n",
      "A parameter name that contains `gamma` will be renamed internally to `weight`. Please use a different name to suppress this warning.\n",
      "A parameter name that contains `beta` will be renamed internally to `bias`. Please use a different name to suppress this warning.\n",
      "A parameter name that contains `gamma` will be renamed internally to `weight`. Please use a different name to suppress this warning.\n",
      "A parameter name that contains `beta` will be renamed internally to `bias`. Please use a different name to suppress this warning.\n",
      "A parameter name that contains `gamma` will be renamed internally to `weight`. Please use a different name to suppress this warning.\n",
      "A parameter name that contains `beta` will be renamed internally to `bias`. Please use a different name to suppress this warning.\n",
      "A parameter name that contains `gamma` will be renamed internally to `weight`. Please use a different name to suppress this warning.\n",
      "A parameter name that contains `beta` will be renamed internally to `bias`. Please use a different name to suppress this warning.\n",
      "A parameter name that contains `gamma` will be renamed internally to `weight`. Please use a different name to suppress this warning.\n",
      "A parameter name that contains `beta` will be renamed internally to `bias`. Please use a different name to suppress this warning.\n",
      "A parameter name that contains `gamma` will be renamed internally to `weight`. Please use a different name to suppress this warning.\n",
      "A parameter name that contains `beta` will be renamed internally to `bias`. Please use a different name to suppress this warning.\n",
      "A parameter name that contains `gamma` will be renamed internally to `weight`. Please use a different name to suppress this warning.\n",
      "A parameter name that contains `beta` will be renamed internally to `bias`. Please use a different name to suppress this warning.\n",
      "A parameter name that contains `gamma` will be renamed internally to `weight`. Please use a different name to suppress this warning.\n",
      "A parameter name that contains `beta` will be renamed internally to `bias`. Please use a different name to suppress this warning.\n",
      "A parameter name that contains `gamma` will be renamed internally to `weight`. Please use a different name to suppress this warning.\n"
     ]
    }
   ],
   "source": [
    "from transformers import BertTokenizer, BertModel\n",
    "import torch\n",
    "\n",
    "tokenizer = BertTokenizer.from_pretrained(\"bert-base-uncased\")\n",
    "model = BertModel.from_pretrained(\"bert-base-uncased\")\n",
    "df[\"emb_ti_auth_sum\"] = None\n",
    "\n",
    "paper_embeddings = []\n",
    "for idx, row in df.iterrows():\n",
    "    paper_info = row[\"authors\"] + \", \" + row[\"title\"] + \", \" + row[\"summary\"]\n",
    "    inputs = tokenizer(paper_info, return_tensors= \"pt\", max_length= 512, truncation= True, padding= True)\n",
    "\n",
    "    with torch.no_grad():\n",
    "        outputs = model(**inputs)\n",
    "\n",
    "    output_cls_token_emb = outputs.last_hidden_state[:, 0, :].squeeze().numpy()\n",
    "    df.at[idx, \"emb_ti_auth_sum\"] = output_cls_token_emb\n",
    "    paper_embeddings.append(output_cls_token_emb)"
   ]
  },
  {
   "cell_type": "code",
   "execution_count": 40,
   "metadata": {},
   "outputs": [
    {
     "data": {
      "application/vnd.plotly.v1+json": {
       "config": {
        "plotlyServerURL": "https://plot.ly"
       },
       "data": [
        {
         "hovertemplate": "color=cond-mat.stat-mech<br>x=%{x}<br>y=%{y}<br>z=%{z}<extra></extra>",
         "legendgroup": "cond-mat.stat-mech",
         "marker": {
          "color": "#636efa",
          "symbol": "circle"
         },
         "mode": "markers",
         "name": "cond-mat.stat-mech",
         "scene": "scene",
         "showlegend": true,
         "type": "scatter3d",
         "x": [
          3.3727956228045106,
          4.259713571673007,
          2.191062001379384
         ],
         "y": [
          -2.172792965299875,
          -0.42838077714989986,
          2.676938928743494
         ],
         "z": [
          -0.8637250382670603,
          0.1257670151422089,
          -1.1246058792329712
         ]
        },
        {
         "hovertemplate": "color=hep-th<br>x=%{x}<br>y=%{y}<br>z=%{z}<extra></extra>",
         "legendgroup": "hep-th",
         "marker": {
          "color": "#EF553B",
          "symbol": "circle"
         },
         "mode": "markers",
         "name": "hep-th",
         "scene": "scene",
         "showlegend": true,
         "type": "scatter3d",
         "x": [
          -2.34993978142418,
          4.881521560899551
         ],
         "y": [
          -5.393560565789207,
          1.782243258843277
         ],
         "z": [
          -0.21014291328378762,
          -1.9458042513034783
         ]
        },
        {
         "hovertemplate": "color=hep-lat<br>x=%{x}<br>y=%{y}<br>z=%{z}<extra></extra>",
         "legendgroup": "hep-lat",
         "marker": {
          "color": "#00cc96",
          "symbol": "circle"
         },
         "mode": "markers",
         "name": "hep-lat",
         "scene": "scene",
         "showlegend": true,
         "type": "scatter3d",
         "x": [
          -0.6256032859020105
         ],
         "y": [
          -0.5657785468838662
         ],
         "z": [
          -0.3921754167226589
         ]
        },
        {
         "hovertemplate": "color=quant-ph<br>x=%{x}<br>y=%{y}<br>z=%{z}<extra></extra>",
         "legendgroup": "quant-ph",
         "marker": {
          "color": "#ab63fa",
          "symbol": "circle"
         },
         "mode": "markers",
         "name": "quant-ph",
         "scene": "scene",
         "showlegend": true,
         "type": "scatter3d",
         "x": [
          1.132605815305219,
          1.4533878713456936,
          0.9830914738019352,
          -0.7083783944143494,
          -0.00023091823631835403,
          -4.758867499469638,
          -3.8662256190651725,
          2.8563955721025573,
          1.3200578588309628,
          -0.5788799835706686,
          0.8930351799726252,
          2.113420450764471,
          4.582163996977353
         ],
         "y": [
          -2.361219533122401,
          0.6861176876282733,
          0.605897727051507,
          1.4272653347332624,
          -2.9817101437224833,
          -0.3532920745372886,
          0.612304345329698,
          -0.8203468069295343,
          2.696599629966089,
          2.2051878279250716,
          -0.03186153640356515,
          -0.43608911194475386,
          2.5744339810458183
         ],
         "z": [
          1.310907587565843,
          1.9325569160683567,
          -2.4777310656193148,
          -0.2183206794884221,
          0.5242671376574275,
          -2.330495409288488,
          1.2610876004904048,
          0.9732281858257862,
          2.9604326994973142,
          2.364983178010935,
          -0.11251290775618837,
          -1.5241351208339484,
          1.4213102693950008
         ]
        },
        {
         "hovertemplate": "color=physics.space-ph<br>x=%{x}<br>y=%{y}<br>z=%{z}<extra></extra>",
         "legendgroup": "physics.space-ph",
         "marker": {
          "color": "#FFA15A",
          "symbol": "circle"
         },
         "mode": "markers",
         "name": "physics.space-ph",
         "scene": "scene",
         "showlegend": true,
         "type": "scatter3d",
         "x": [
          -3.262909067538447
         ],
         "y": [
          3.9299363639856915
         ],
         "z": [
          -5.541455005677174
         ]
        },
        {
         "hovertemplate": "color=physics.atom-ph<br>x=%{x}<br>y=%{y}<br>z=%{z}<extra></extra>",
         "legendgroup": "physics.atom-ph",
         "marker": {
          "color": "#19d3f3",
          "symbol": "circle"
         },
         "mode": "markers",
         "name": "physics.atom-ph",
         "scene": "scene",
         "showlegend": true,
         "type": "scatter3d",
         "x": [
          -1.8998403127295955
         ],
         "y": [
          -0.9998099438521388
         ],
         "z": [
          -0.37163218354936567
         ]
        },
        {
         "hovertemplate": "color=math.SG<br>x=%{x}<br>y=%{y}<br>z=%{z}<extra></extra>",
         "legendgroup": "math.SG",
         "marker": {
          "color": "#FF6692",
          "symbol": "circle"
         },
         "mode": "markers",
         "name": "math.SG",
         "scene": "scene",
         "showlegend": true,
         "type": "scatter3d",
         "x": [
          -1.567402787321498
         ],
         "y": [
          -4.959328274616878
         ],
         "z": [
          1.6381569840469905
         ]
        },
        {
         "hovertemplate": "color=physics.chem-ph<br>x=%{x}<br>y=%{y}<br>z=%{z}<extra></extra>",
         "legendgroup": "physics.chem-ph",
         "marker": {
          "color": "#B6E880",
          "symbol": "circle"
         },
         "mode": "markers",
         "name": "physics.chem-ph",
         "scene": "scene",
         "showlegend": true,
         "type": "scatter3d",
         "x": [
          -1.249182240433207
         ],
         "y": [
          -1.3949714696549464
         ],
         "z": [
          -0.4918408317134986
         ]
        },
        {
         "hovertemplate": "color=hep-ph<br>x=%{x}<br>y=%{y}<br>z=%{z}<extra></extra>",
         "legendgroup": "hep-ph",
         "marker": {
          "color": "#FF97FF",
          "symbol": "circle"
         },
         "mode": "markers",
         "name": "hep-ph",
         "scene": "scene",
         "showlegend": true,
         "type": "scatter3d",
         "x": [
          -3.258121767793095
         ],
         "y": [
          -1.1853447305686744
         ],
         "z": [
          -0.6348282287655305
         ]
        },
        {
         "hovertemplate": "color=astro-ph.IM<br>x=%{x}<br>y=%{y}<br>z=%{z}<extra></extra>",
         "legendgroup": "astro-ph.IM",
         "marker": {
          "color": "#FECB52",
          "symbol": "circle"
         },
         "mode": "markers",
         "name": "astro-ph.IM",
         "scene": "scene",
         "showlegend": true,
         "type": "scatter3d",
         "x": [
          -5.913669317959101
         ],
         "y": [
          4.887561395223324
         ],
         "z": [
          3.7267073578016126
         ]
        }
       ],
       "layout": {
        "legend": {
         "title": {
          "text": "color"
         },
         "tracegroupgap": 0
        },
        "scene": {
         "domain": {
          "x": [
           0,
           1
          ],
          "y": [
           0,
           1
          ]
         },
         "xaxis": {
          "title": {
           "text": "x"
          }
         },
         "yaxis": {
          "title": {
           "text": "y"
          }
         },
         "zaxis": {
          "title": {
           "text": "z"
          }
         }
        },
        "template": {
         "data": {
          "bar": [
           {
            "error_x": {
             "color": "#2a3f5f"
            },
            "error_y": {
             "color": "#2a3f5f"
            },
            "marker": {
             "line": {
              "color": "#E5ECF6",
              "width": 0.5
             },
             "pattern": {
              "fillmode": "overlay",
              "size": 10,
              "solidity": 0.2
             }
            },
            "type": "bar"
           }
          ],
          "barpolar": [
           {
            "marker": {
             "line": {
              "color": "#E5ECF6",
              "width": 0.5
             },
             "pattern": {
              "fillmode": "overlay",
              "size": 10,
              "solidity": 0.2
             }
            },
            "type": "barpolar"
           }
          ],
          "carpet": [
           {
            "aaxis": {
             "endlinecolor": "#2a3f5f",
             "gridcolor": "white",
             "linecolor": "white",
             "minorgridcolor": "white",
             "startlinecolor": "#2a3f5f"
            },
            "baxis": {
             "endlinecolor": "#2a3f5f",
             "gridcolor": "white",
             "linecolor": "white",
             "minorgridcolor": "white",
             "startlinecolor": "#2a3f5f"
            },
            "type": "carpet"
           }
          ],
          "choropleth": [
           {
            "colorbar": {
             "outlinewidth": 0,
             "ticks": ""
            },
            "type": "choropleth"
           }
          ],
          "contour": [
           {
            "colorbar": {
             "outlinewidth": 0,
             "ticks": ""
            },
            "colorscale": [
             [
              0,
              "#0d0887"
             ],
             [
              0.1111111111111111,
              "#46039f"
             ],
             [
              0.2222222222222222,
              "#7201a8"
             ],
             [
              0.3333333333333333,
              "#9c179e"
             ],
             [
              0.4444444444444444,
              "#bd3786"
             ],
             [
              0.5555555555555556,
              "#d8576b"
             ],
             [
              0.6666666666666666,
              "#ed7953"
             ],
             [
              0.7777777777777778,
              "#fb9f3a"
             ],
             [
              0.8888888888888888,
              "#fdca26"
             ],
             [
              1,
              "#f0f921"
             ]
            ],
            "type": "contour"
           }
          ],
          "contourcarpet": [
           {
            "colorbar": {
             "outlinewidth": 0,
             "ticks": ""
            },
            "type": "contourcarpet"
           }
          ],
          "heatmap": [
           {
            "colorbar": {
             "outlinewidth": 0,
             "ticks": ""
            },
            "colorscale": [
             [
              0,
              "#0d0887"
             ],
             [
              0.1111111111111111,
              "#46039f"
             ],
             [
              0.2222222222222222,
              "#7201a8"
             ],
             [
              0.3333333333333333,
              "#9c179e"
             ],
             [
              0.4444444444444444,
              "#bd3786"
             ],
             [
              0.5555555555555556,
              "#d8576b"
             ],
             [
              0.6666666666666666,
              "#ed7953"
             ],
             [
              0.7777777777777778,
              "#fb9f3a"
             ],
             [
              0.8888888888888888,
              "#fdca26"
             ],
             [
              1,
              "#f0f921"
             ]
            ],
            "type": "heatmap"
           }
          ],
          "heatmapgl": [
           {
            "colorbar": {
             "outlinewidth": 0,
             "ticks": ""
            },
            "colorscale": [
             [
              0,
              "#0d0887"
             ],
             [
              0.1111111111111111,
              "#46039f"
             ],
             [
              0.2222222222222222,
              "#7201a8"
             ],
             [
              0.3333333333333333,
              "#9c179e"
             ],
             [
              0.4444444444444444,
              "#bd3786"
             ],
             [
              0.5555555555555556,
              "#d8576b"
             ],
             [
              0.6666666666666666,
              "#ed7953"
             ],
             [
              0.7777777777777778,
              "#fb9f3a"
             ],
             [
              0.8888888888888888,
              "#fdca26"
             ],
             [
              1,
              "#f0f921"
             ]
            ],
            "type": "heatmapgl"
           }
          ],
          "histogram": [
           {
            "marker": {
             "pattern": {
              "fillmode": "overlay",
              "size": 10,
              "solidity": 0.2
             }
            },
            "type": "histogram"
           }
          ],
          "histogram2d": [
           {
            "colorbar": {
             "outlinewidth": 0,
             "ticks": ""
            },
            "colorscale": [
             [
              0,
              "#0d0887"
             ],
             [
              0.1111111111111111,
              "#46039f"
             ],
             [
              0.2222222222222222,
              "#7201a8"
             ],
             [
              0.3333333333333333,
              "#9c179e"
             ],
             [
              0.4444444444444444,
              "#bd3786"
             ],
             [
              0.5555555555555556,
              "#d8576b"
             ],
             [
              0.6666666666666666,
              "#ed7953"
             ],
             [
              0.7777777777777778,
              "#fb9f3a"
             ],
             [
              0.8888888888888888,
              "#fdca26"
             ],
             [
              1,
              "#f0f921"
             ]
            ],
            "type": "histogram2d"
           }
          ],
          "histogram2dcontour": [
           {
            "colorbar": {
             "outlinewidth": 0,
             "ticks": ""
            },
            "colorscale": [
             [
              0,
              "#0d0887"
             ],
             [
              0.1111111111111111,
              "#46039f"
             ],
             [
              0.2222222222222222,
              "#7201a8"
             ],
             [
              0.3333333333333333,
              "#9c179e"
             ],
             [
              0.4444444444444444,
              "#bd3786"
             ],
             [
              0.5555555555555556,
              "#d8576b"
             ],
             [
              0.6666666666666666,
              "#ed7953"
             ],
             [
              0.7777777777777778,
              "#fb9f3a"
             ],
             [
              0.8888888888888888,
              "#fdca26"
             ],
             [
              1,
              "#f0f921"
             ]
            ],
            "type": "histogram2dcontour"
           }
          ],
          "mesh3d": [
           {
            "colorbar": {
             "outlinewidth": 0,
             "ticks": ""
            },
            "type": "mesh3d"
           }
          ],
          "parcoords": [
           {
            "line": {
             "colorbar": {
              "outlinewidth": 0,
              "ticks": ""
             }
            },
            "type": "parcoords"
           }
          ],
          "pie": [
           {
            "automargin": true,
            "type": "pie"
           }
          ],
          "scatter": [
           {
            "fillpattern": {
             "fillmode": "overlay",
             "size": 10,
             "solidity": 0.2
            },
            "type": "scatter"
           }
          ],
          "scatter3d": [
           {
            "line": {
             "colorbar": {
              "outlinewidth": 0,
              "ticks": ""
             }
            },
            "marker": {
             "colorbar": {
              "outlinewidth": 0,
              "ticks": ""
             }
            },
            "type": "scatter3d"
           }
          ],
          "scattercarpet": [
           {
            "marker": {
             "colorbar": {
              "outlinewidth": 0,
              "ticks": ""
             }
            },
            "type": "scattercarpet"
           }
          ],
          "scattergeo": [
           {
            "marker": {
             "colorbar": {
              "outlinewidth": 0,
              "ticks": ""
             }
            },
            "type": "scattergeo"
           }
          ],
          "scattergl": [
           {
            "marker": {
             "colorbar": {
              "outlinewidth": 0,
              "ticks": ""
             }
            },
            "type": "scattergl"
           }
          ],
          "scattermapbox": [
           {
            "marker": {
             "colorbar": {
              "outlinewidth": 0,
              "ticks": ""
             }
            },
            "type": "scattermapbox"
           }
          ],
          "scatterpolar": [
           {
            "marker": {
             "colorbar": {
              "outlinewidth": 0,
              "ticks": ""
             }
            },
            "type": "scatterpolar"
           }
          ],
          "scatterpolargl": [
           {
            "marker": {
             "colorbar": {
              "outlinewidth": 0,
              "ticks": ""
             }
            },
            "type": "scatterpolargl"
           }
          ],
          "scatterternary": [
           {
            "marker": {
             "colorbar": {
              "outlinewidth": 0,
              "ticks": ""
             }
            },
            "type": "scatterternary"
           }
          ],
          "surface": [
           {
            "colorbar": {
             "outlinewidth": 0,
             "ticks": ""
            },
            "colorscale": [
             [
              0,
              "#0d0887"
             ],
             [
              0.1111111111111111,
              "#46039f"
             ],
             [
              0.2222222222222222,
              "#7201a8"
             ],
             [
              0.3333333333333333,
              "#9c179e"
             ],
             [
              0.4444444444444444,
              "#bd3786"
             ],
             [
              0.5555555555555556,
              "#d8576b"
             ],
             [
              0.6666666666666666,
              "#ed7953"
             ],
             [
              0.7777777777777778,
              "#fb9f3a"
             ],
             [
              0.8888888888888888,
              "#fdca26"
             ],
             [
              1,
              "#f0f921"
             ]
            ],
            "type": "surface"
           }
          ],
          "table": [
           {
            "cells": {
             "fill": {
              "color": "#EBF0F8"
             },
             "line": {
              "color": "white"
             }
            },
            "header": {
             "fill": {
              "color": "#C8D4E3"
             },
             "line": {
              "color": "white"
             }
            },
            "type": "table"
           }
          ]
         },
         "layout": {
          "annotationdefaults": {
           "arrowcolor": "#2a3f5f",
           "arrowhead": 0,
           "arrowwidth": 1
          },
          "autotypenumbers": "strict",
          "coloraxis": {
           "colorbar": {
            "outlinewidth": 0,
            "ticks": ""
           }
          },
          "colorscale": {
           "diverging": [
            [
             0,
             "#8e0152"
            ],
            [
             0.1,
             "#c51b7d"
            ],
            [
             0.2,
             "#de77ae"
            ],
            [
             0.3,
             "#f1b6da"
            ],
            [
             0.4,
             "#fde0ef"
            ],
            [
             0.5,
             "#f7f7f7"
            ],
            [
             0.6,
             "#e6f5d0"
            ],
            [
             0.7,
             "#b8e186"
            ],
            [
             0.8,
             "#7fbc41"
            ],
            [
             0.9,
             "#4d9221"
            ],
            [
             1,
             "#276419"
            ]
           ],
           "sequential": [
            [
             0,
             "#0d0887"
            ],
            [
             0.1111111111111111,
             "#46039f"
            ],
            [
             0.2222222222222222,
             "#7201a8"
            ],
            [
             0.3333333333333333,
             "#9c179e"
            ],
            [
             0.4444444444444444,
             "#bd3786"
            ],
            [
             0.5555555555555556,
             "#d8576b"
            ],
            [
             0.6666666666666666,
             "#ed7953"
            ],
            [
             0.7777777777777778,
             "#fb9f3a"
            ],
            [
             0.8888888888888888,
             "#fdca26"
            ],
            [
             1,
             "#f0f921"
            ]
           ],
           "sequentialminus": [
            [
             0,
             "#0d0887"
            ],
            [
             0.1111111111111111,
             "#46039f"
            ],
            [
             0.2222222222222222,
             "#7201a8"
            ],
            [
             0.3333333333333333,
             "#9c179e"
            ],
            [
             0.4444444444444444,
             "#bd3786"
            ],
            [
             0.5555555555555556,
             "#d8576b"
            ],
            [
             0.6666666666666666,
             "#ed7953"
            ],
            [
             0.7777777777777778,
             "#fb9f3a"
            ],
            [
             0.8888888888888888,
             "#fdca26"
            ],
            [
             1,
             "#f0f921"
            ]
           ]
          },
          "colorway": [
           "#636efa",
           "#EF553B",
           "#00cc96",
           "#ab63fa",
           "#FFA15A",
           "#19d3f3",
           "#FF6692",
           "#B6E880",
           "#FF97FF",
           "#FECB52"
          ],
          "font": {
           "color": "#2a3f5f"
          },
          "geo": {
           "bgcolor": "white",
           "lakecolor": "white",
           "landcolor": "#E5ECF6",
           "showlakes": true,
           "showland": true,
           "subunitcolor": "white"
          },
          "hoverlabel": {
           "align": "left"
          },
          "hovermode": "closest",
          "mapbox": {
           "style": "light"
          },
          "paper_bgcolor": "white",
          "plot_bgcolor": "#E5ECF6",
          "polar": {
           "angularaxis": {
            "gridcolor": "white",
            "linecolor": "white",
            "ticks": ""
           },
           "bgcolor": "#E5ECF6",
           "radialaxis": {
            "gridcolor": "white",
            "linecolor": "white",
            "ticks": ""
           }
          },
          "scene": {
           "xaxis": {
            "backgroundcolor": "#E5ECF6",
            "gridcolor": "white",
            "gridwidth": 2,
            "linecolor": "white",
            "showbackground": true,
            "ticks": "",
            "zerolinecolor": "white"
           },
           "yaxis": {
            "backgroundcolor": "#E5ECF6",
            "gridcolor": "white",
            "gridwidth": 2,
            "linecolor": "white",
            "showbackground": true,
            "ticks": "",
            "zerolinecolor": "white"
           },
           "zaxis": {
            "backgroundcolor": "#E5ECF6",
            "gridcolor": "white",
            "gridwidth": 2,
            "linecolor": "white",
            "showbackground": true,
            "ticks": "",
            "zerolinecolor": "white"
           }
          },
          "shapedefaults": {
           "line": {
            "color": "#2a3f5f"
           }
          },
          "ternary": {
           "aaxis": {
            "gridcolor": "white",
            "linecolor": "white",
            "ticks": ""
           },
           "baxis": {
            "gridcolor": "white",
            "linecolor": "white",
            "ticks": ""
           },
           "bgcolor": "#E5ECF6",
           "caxis": {
            "gridcolor": "white",
            "linecolor": "white",
            "ticks": ""
           }
          },
          "title": {
           "x": 0.05
          },
          "xaxis": {
           "automargin": true,
           "gridcolor": "white",
           "linecolor": "white",
           "ticks": "",
           "title": {
            "standoff": 15
           },
           "zerolinecolor": "white",
           "zerolinewidth": 2
          },
          "yaxis": {
           "automargin": true,
           "gridcolor": "white",
           "linecolor": "white",
           "ticks": "",
           "title": {
            "standoff": 15
           },
           "zerolinecolor": "white",
           "zerolinewidth": 2
          }
         }
        },
        "title": {
         "text": "3D Visualisierung der Paper Embeddings"
        }
       }
      }
     },
     "metadata": {},
     "output_type": "display_data"
    }
   ],
   "source": [
    "from sklearn.decomposition import PCA\n",
    "import plotly.express as px\n",
    "from sklearn.metrics.pairwise import cosine_similarity\n",
    "\n",
    "cosine_similarities = cosine_similarity(df[\"emb_ti_auth_sum\"].values.tolist())\n",
    "#embeddings_array = torch.stack(df[\"emb_ti_auth_sum\"].values).detach().numpy()\n",
    "\n",
    "pca = PCA(n_components=3)\n",
    "embeddings_reduced = pca.fit_transform(df[\"emb_ti_auth_sum\"].values.tolist())\n",
    "\n",
    "fig = px.scatter_3d(\n",
    "    x=embeddings_reduced[:, 0], \n",
    "    y=embeddings_reduced[:, 1], \n",
    "    z=embeddings_reduced[:, 2],\n",
    "    title=\"3D Visualisierung der Paper Embeddings\",\n",
    "    color= df[\"primary_category\"]\n",
    ")\n",
    "\n",
    "fig.show()"
   ]
  },
  {
   "cell_type": "code",
   "execution_count": null,
   "metadata": {},
   "outputs": [],
   "source": [
    "# Code oben anpassen, idx, title auth prim_cat für jedes paper als label speichern und danach für jedes label über idx matchen um vis zu annotaten\n",
    "# vis: colobar nach der nähe der punkte zueinander definieren, cos, function das nach prim_cat gecolored wird"
   ]
  },
  {
   "cell_type": "code",
   "execution_count": 117,
   "metadata": {},
   "outputs": [
    {
     "data": {
      "text/plain": [
       "array([-3.82961899e-01, -5.77112615e-01, -8.74850005e-02, -1.92240700e-01,\n",
       "       -5.64849600e-02, -1.67696968e-01, -1.83353141e-01, -4.22380865e-01,\n",
       "        5.91557562e-01, -1.09967172e+00, -3.33724022e-01,  1.32639885e-01,\n",
       "       -6.98367000e-01, -2.52428055e-01, -3.11977476e-01,  4.47234362e-01,\n",
       "        4.96635854e-01, -7.18828142e-02, -1.82825834e-01,  1.40252123e-02,\n",
       "        3.66788834e-01, -1.58625737e-01,  9.74384323e-02, -3.85426134e-02,\n",
       "        1.31820560e-01, -4.72510099e-01, -1.70363784e-01, -3.39535534e-01,\n",
       "        2.49586523e-01,  4.32586133e-01, -4.12304759e-01,  6.54714167e-01,\n",
       "       -3.72190058e-01, -6.44016564e-01,  8.10964823e-01,  6.15352094e-02,\n",
       "        6.14458263e-01,  4.91400898e-01,  5.23263931e-01,  8.62905383e-02,\n",
       "       -1.02233201e-01,  1.36117280e-01,  8.26833248e-02, -1.81768775e-01,\n",
       "       -8.55005383e-01,  9.17503051e-03, -4.51417923e+00, -2.94986874e-01,\n",
       "       -3.89297664e-01, -1.02606022e+00, -1.68631747e-01, -2.79952198e-01,\n",
       "       -2.58737169e-02,  1.43691063e+00,  1.58811033e-01,  1.58223331e-01,\n",
       "       -3.46752256e-01, -1.15808800e-01,  6.14838719e-01, -1.28949791e-01,\n",
       "        4.22859251e-01,  6.89830124e-01,  2.74005651e-01, -1.34950370e-01,\n",
       "        1.98990315e-01,  9.97436702e-01,  4.47198004e-01, -2.28781685e-01,\n",
       "       -3.98897976e-01,  6.01058185e-01, -2.74660796e-01, -3.80737960e-01,\n",
       "       -9.13823724e-01, -2.07679123e-01, -1.60415605e-01,  3.73104602e-01,\n",
       "        1.05762772e-01,  4.82828319e-01, -4.06531453e-01, -2.36644045e-01,\n",
       "       -4.27653342e-01,  8.75788331e-01,  4.74806517e-01, -5.71473062e-01,\n",
       "        3.71804416e-01,  2.56426036e-01,  5.86663857e-02,  7.01861322e-01,\n",
       "       -8.61498594e-01,  9.92759466e-01, -2.28454277e-01,  5.00038803e-01,\n",
       "        1.11137331e-03,  4.72636614e-03,  5.90981901e-01,  5.50268114e-01,\n",
       "        3.09256881e-01, -5.18634677e-01,  3.60869765e-01, -7.92086273e-02,\n",
       "        3.10942233e-02, -1.01089287e+00, -5.38764037e-02, -1.57767868e+00,\n",
       "        3.58394712e-01, -3.73599261e-01, -2.96774447e-01,  1.02854446e-01,\n",
       "       -1.36567548e-01, -6.72870934e-01,  2.75998205e-01,  4.92974460e-01,\n",
       "        7.63538480e-01, -8.09942722e-01,  6.68805957e-01, -5.58653831e-01,\n",
       "       -1.25458896e-01,  1.90763533e-01, -4.63309400e-02,  4.94409353e-01,\n",
       "        2.73591697e-01,  8.08191001e-01,  8.76072496e-02, -1.54171199e-01,\n",
       "        2.70466447e-01, -1.05623499e-01,  4.81112033e-01,  3.33300412e-01,\n",
       "       -2.23231494e-01, -2.23881960e-01,  1.09288597e+00,  1.67928770e-01,\n",
       "        1.71634659e-01, -2.19407380e-01, -4.19664562e-01,  7.40453228e-02,\n",
       "       -1.08158195e+00, -1.69315055e-01, -6.39688730e-01,  1.24177113e-01,\n",
       "       -6.17948532e-01, -5.67723930e-01, -1.45057058e+00,  3.67856503e-01,\n",
       "        1.06318557e+00, -4.19486701e-01, -2.27011517e-01, -1.34437263e-01,\n",
       "        2.63477147e-01,  7.30433822e-01,  1.92926645e-01,  8.10301006e-02,\n",
       "       -4.56258357e-01, -6.08965516e-01, -6.69359088e-01,  3.26857388e-01,\n",
       "       -4.01470929e-01,  6.82505846e-01, -5.47341645e-01,  2.06188187e-01,\n",
       "        1.68113038e-01,  2.95906872e-01, -1.25250411e+00, -5.02960861e-01,\n",
       "        1.78201541e-01, -3.59708041e-01,  6.77479625e-01,  5.60597479e-01,\n",
       "       -3.22261631e-01, -8.02816600e-02,  6.94410384e-01, -6.42339230e-01,\n",
       "        4.33848381e-01,  2.81740457e-01, -1.74591690e-03,  2.12646112e-01,\n",
       "       -2.87013322e-01, -2.65180290e-01,  6.29349649e-01,  2.78925180e-01,\n",
       "       -1.00012743e+00,  1.50771573e-01, -3.66622865e-01, -4.29680496e-01,\n",
       "        3.02763909e-01, -2.59715207e-02,  3.71989191e-01, -4.70275581e-01,\n",
       "        4.44062799e-01, -1.76374257e-01, -6.55176580e-01, -6.86038509e-02,\n",
       "        4.50892448e-01, -5.44126093e-01,  7.87385046e-01,  8.05443525e-01,\n",
       "       -2.00250953e-01,  1.75511584e-01, -8.81541133e-01, -2.83144236e-01,\n",
       "       -7.84384787e-01,  4.28592525e-02,  1.97845578e-01, -1.21268436e-01,\n",
       "       -5.01840487e-02,  3.45240569e+00, -1.11672625e-01,  4.34879884e-02,\n",
       "        1.00869521e-01,  7.32765138e-01, -3.99415225e-01, -6.79960608e-01,\n",
       "        3.98468614e-01, -7.22628534e-01,  7.69792438e-01, -1.56797752e-01,\n",
       "       -6.35789484e-02, -3.99034411e-01,  1.66013911e-01,  4.31574285e-01,\n",
       "        8.93202722e-01,  2.23946750e-01, -4.28936511e-01,  4.05285060e-01,\n",
       "       -1.51409641e-01,  9.45974290e-01,  6.57798171e-01,  7.41040230e-01,\n",
       "        1.16788650e+00, -1.96941209e+00,  3.77490431e-01, -6.53066516e-01,\n",
       "        2.35074759e-01, -1.86291546e-01,  2.02522576e-01,  1.37107834e-01,\n",
       "        8.42490971e-01, -2.48737752e-01, -4.83456880e-01, -6.31263852e-01,\n",
       "       -2.78312564e-01,  1.49216068e+00,  1.64021462e-01, -2.22963355e-02,\n",
       "       -1.96896076e-01, -4.52827096e-01, -3.47988725e-01, -1.13062668e+00,\n",
       "       -2.69776851e-01, -3.17075431e-01, -3.24254066e-01,  6.95062399e-01,\n",
       "        9.22273472e-02,  5.35964742e-02,  7.53670558e-02,  1.01880483e-01,\n",
       "        2.64097869e-01, -6.15346730e-02,  7.27162659e-02,  9.38108146e-01,\n",
       "       -7.16865897e-01, -4.28538680e-01, -1.33178830e-01, -8.06351006e-03,\n",
       "       -9.54046488e-01, -5.10454714e-01, -5.74387014e-01, -1.81660056e-01,\n",
       "       -1.37120485e-02,  2.32895747e-01,  1.88812256e-01, -9.72135544e-01,\n",
       "       -2.54924327e-01, -8.96733642e-01, -5.35419464e-01, -7.31900394e-01,\n",
       "        5.83221197e-01, -2.68655568e-02, -2.61839181e-01, -8.16439271e-01,\n",
       "       -2.43218333e-01, -2.03348219e-01,  4.20332737e-02,  7.72701204e-03,\n",
       "        2.30835199e-01,  2.33563423e-01, -8.27573761e-02, -9.71611977e-01,\n",
       "        4.19136077e-01,  2.36573815e-02, -1.22478771e+00, -8.80315900e-03,\n",
       "       -4.01584238e-01, -8.70633960e-01, -1.26548082e-01,  4.15529907e-01,\n",
       "       -6.86934888e-02,  4.30657417e-01, -4.25393641e-01, -2.94600427e-01,\n",
       "       -8.11225295e-01, -5.53191721e-01,  3.53715181e-01,  1.05790161e-01,\n",
       "       -4.14244831e-01, -5.54089129e-01, -1.72097296e-01,  1.81916535e-01,\n",
       "       -3.08480501e+00,  1.11318275e-01,  3.28280121e-01, -1.28022388e-01,\n",
       "       -1.07472790e-02,  8.05877090e-01,  4.80337441e-01, -2.46003002e-01,\n",
       "       -2.53343880e-01,  2.82781154e-01,  2.76631504e-01, -7.07487404e-01,\n",
       "       -3.20499808e-01,  4.23936337e-01,  9.17161524e-01, -5.40594876e-01,\n",
       "        2.60751337e-01, -3.69869739e-01,  6.17513716e-01, -3.66579831e-01,\n",
       "       -6.39543295e-01, -2.16117486e-01, -3.05416971e-01, -3.44731748e-01,\n",
       "       -4.13745567e-02, -1.04929186e-01, -1.39463699e+00, -1.18047483e-01,\n",
       "        2.02750176e-01, -6.00837409e-01,  2.43414000e-01, -6.15554869e-01,\n",
       "       -8.22092295e-02, -1.78197309e-01, -2.60441631e-01,  2.64087081e-01,\n",
       "       -3.23293567e-01, -7.65681639e-02,  5.91464162e-01, -1.03617811e+00,\n",
       "        2.45350283e-02,  1.48197484e+00,  4.66877162e-01, -5.53654850e-01,\n",
       "        4.97014076e-01, -3.59869838e-01,  6.63778603e-01,  5.76702595e-01,\n",
       "       -2.98069865e-01,  4.13817883e-01, -1.23389691e-01,  6.40658975e-01,\n",
       "        1.54457831e+00, -1.82947576e-01,  3.20206702e-01,  3.48424166e-02,\n",
       "        5.26449382e-01,  2.99903937e-03, -2.03131169e-01,  2.93506086e-01,\n",
       "        1.17283237e+00, -9.78227854e-01,  5.80648184e-01, -6.04597926e-01,\n",
       "        4.70052660e-02,  8.70788544e-02, -2.99936533e-01, -3.79886091e-01,\n",
       "        1.22436714e+00, -1.94444954e-02, -5.62331259e-01,  7.19630241e-01,\n",
       "       -8.70844245e-01, -1.53110838e+00, -2.79285133e-01, -7.76321054e-01,\n",
       "       -2.21713752e-01, -7.91130736e-02, -3.36864218e-02,  1.02862827e-01,\n",
       "       -5.20134509e-01, -1.53917894e-01, -4.00788069e-01,  3.24477494e-01,\n",
       "        7.57812262e-01, -5.70418179e-01, -4.24759328e-01, -3.32014710e-02,\n",
       "       -8.07914615e-01, -2.34295756e-01, -3.80515248e-01,  3.16533387e-01,\n",
       "        1.10753644e+00, -1.24421999e-01, -2.24945292e-01, -7.19240457e-02,\n",
       "       -3.34081799e-01, -5.65796733e-01,  9.25696313e-01,  1.42529368e-01,\n",
       "        4.29149568e-01, -2.05361396e-01, -7.36826956e-01, -4.32425439e-01,\n",
       "       -7.81352445e-02,  8.08286294e-02, -5.33920169e-01,  5.75606644e-01,\n",
       "        6.47708058e-01,  9.81009826e-02, -5.56929827e-01,  6.18799567e-01,\n",
       "       -2.58897841e-01, -4.44428384e-01,  1.36186099e+00,  1.37948036e-01,\n",
       "       -3.43974560e-01,  6.59160912e-01,  8.50996494e-01, -6.94223464e-01,\n",
       "        2.92289197e-01, -4.82967347e-01,  1.13417923e-01,  4.30218354e-02,\n",
       "        1.40841052e-01,  2.06842735e-01, -1.26898006e-01,  1.69955552e-01,\n",
       "       -8.65596011e-02, -2.78217085e-02, -1.36825927e-02,  1.27446219e-01,\n",
       "       -6.61265075e-01, -2.03199312e-01,  4.19401348e-01, -7.08653867e-01,\n",
       "       -1.10374987e-02,  1.35403305e-01,  9.27708000e-02,  1.09500721e-01,\n",
       "        1.12472415e+00,  2.17295066e-01, -4.33604658e-01, -3.63410980e-01,\n",
       "        2.51453340e-01,  7.73778856e-01, -4.44726527e-01,  9.32289511e-02,\n",
       "       -1.39333084e-01,  3.63694787e-01,  3.72230291e-01, -1.09621137e-03,\n",
       "        7.25267231e-01, -8.57635915e-01,  7.55316138e-01, -1.92181513e-01,\n",
       "       -2.58127689e-01, -3.51545781e-01, -1.84206933e-01, -5.01655042e-01,\n",
       "        3.94246519e-01,  5.89622378e-01, -1.97937822e+00, -7.73958623e-01,\n",
       "        3.14119458e-01,  5.40552616e-01, -4.56681520e-01,  5.91358423e-01,\n",
       "       -1.83278352e-01,  4.06954288e-01,  1.14378721e-01, -4.55898374e-01,\n",
       "        2.68899277e-02, -8.90858710e-01, -2.75319457e-01,  4.80401874e-01,\n",
       "        3.62977862e-01, -3.24627936e-01, -3.35452035e-02,  1.52000681e-01,\n",
       "        5.37751734e-01, -8.95056546e-01,  4.35237437e-01,  2.37507466e-03,\n",
       "        6.57441616e-01,  1.02364607e-02, -1.80479810e-02, -1.43503368e-01,\n",
       "       -1.09661150e+00, -1.44637227e-01,  9.22588766e-01,  8.82614970e-01,\n",
       "        1.67449079e-02, -8.16355109e-01, -4.23863173e-01,  3.07989419e-01,\n",
       "        4.85633433e-01,  2.48494193e-01, -4.86886561e-01, -2.20278636e-01,\n",
       "        1.97106451e-01,  4.88960803e-01, -7.60273099e-01,  4.20445949e-01,\n",
       "        6.98989928e-01,  8.28765512e-01,  3.61264527e-01,  3.76135111e-01,\n",
       "       -1.44162685e-01,  2.66924333e-02, -1.07395852e+00,  2.20642626e-01,\n",
       "        7.67659992e-02, -6.84528351e-01, -5.76170981e-01,  1.90449402e-01,\n",
       "       -4.68988754e-02, -7.01233089e-01,  1.16972402e-01,  2.10370526e-01,\n",
       "       -4.06997427e-02, -2.29136139e-01,  4.65838850e-01, -1.03863984e-01,\n",
       "        3.31543118e-01, -1.87920243e-01, -4.63507712e-01, -1.48558772e+00,\n",
       "       -5.94834507e-01,  4.54080701e-01, -9.25970197e-01,  4.22319062e-02,\n",
       "        1.48124188e-01,  7.28020191e-01, -9.44681287e-01, -4.73965466e-01,\n",
       "       -2.00760573e-01,  4.75448459e-01, -5.48212111e-01, -9.68483925e-01,\n",
       "        4.60077912e-01,  7.12526962e-02, -5.06810546e-01, -3.28637838e-01,\n",
       "        6.13721967e-01,  4.75141823e-01,  6.07501626e-01, -5.05492315e-02,\n",
       "        3.74031365e-02, -5.00342369e-01,  7.23525345e-01,  7.09940314e-01,\n",
       "       -3.75168443e-01,  1.86205015e-01, -1.66037068e-01,  6.18679643e-01,\n",
       "        1.47519857e-01, -4.30140913e-01,  1.31193772e-01, -1.83367938e-01,\n",
       "        4.59797651e-01, -3.35263699e-01, -7.19439387e-02, -2.22679123e-01,\n",
       "        2.32820064e-01,  5.09666860e-01, -1.17291391e-01, -1.40081033e-01,\n",
       "        1.20450988e-01, -1.92856044e-01, -4.75983828e-01, -2.79604912e-01,\n",
       "        5.95572591e-01,  2.62803771e-02,  1.12063277e+00,  1.40232444e-01,\n",
       "        8.05819690e-01, -1.44618705e-01,  2.00228274e-01, -5.53373694e-01,\n",
       "        7.96337485e-01,  9.56154838e-02, -2.70977348e-01,  7.76577443e-02,\n",
       "        7.15267599e-01,  5.21509647e-01,  8.32411423e-02,  5.16289890e-01,\n",
       "        7.28197992e-02,  5.80512404e-01, -2.35817969e-01, -3.19321677e-02,\n",
       "       -6.30281448e-01, -2.46333182e-01,  3.64072442e-01,  6.73997164e-01,\n",
       "        6.90605640e-01,  6.88340425e-01, -1.04838908e+00,  8.34432095e-02,\n",
       "       -3.95230383e-01,  3.84987444e-01,  4.67998385e-01, -1.81626901e-02,\n",
       "        2.99371243e-01,  3.71205896e-01,  3.42081636e-01, -3.52677226e-01,\n",
       "       -2.00685650e-01,  2.06781819e-01, -9.98555124e-02,  8.65109980e-01,\n",
       "        2.17321232e-01, -7.08989948e-02, -1.10757351e+00, -4.46510971e-01,\n",
       "       -5.55326521e-01, -2.60303080e-01,  2.96816587e-01, -2.26191372e-01,\n",
       "        3.26914459e-01,  7.69027174e-02,  6.79506123e-01, -5.77789009e-01,\n",
       "       -7.67384052e-01,  5.68107128e-01,  5.66883922e-01, -3.55331838e-01,\n",
       "       -2.47904897e-01,  7.51669109e-01,  1.15156007e+00,  4.22467828e-01,\n",
       "       -5.35282433e-01,  2.77608812e-01,  1.85320362e-01,  1.24362677e-01,\n",
       "        3.57342064e-01, -4.07709628e-02,  4.97853011e-03, -2.26000939e-02,\n",
       "        2.49687582e-01,  6.41944051e-01, -4.81959879e-01, -1.30299345e-01,\n",
       "       -1.22150794e-01,  1.99660674e-01,  3.70300300e-02,  3.56419444e-01,\n",
       "       -1.84639886e-01, -5.64254940e-01,  4.33152586e-01,  6.90334082e-01,\n",
       "        3.19500089e-01,  7.98627973e-01,  4.23601687e-01,  7.68486083e-01,\n",
       "        8.46862197e-01, -3.00119460e-01, -5.83696842e-01, -1.67644739e-01,\n",
       "        6.52221620e-01,  5.56914151e-01,  6.54531538e-01, -4.55991417e-01,\n",
       "        4.39804077e-01,  4.56919044e-01,  2.30593868e-02,  4.39999342e-01,\n",
       "        1.94846809e-01, -4.86656576e-01,  3.34143758e-01,  6.27199948e-01,\n",
       "       -6.71026468e-01,  1.33585125e-01, -2.44874313e-01, -4.26201850e-01,\n",
       "       -7.55187273e-02,  6.34694457e-01, -2.08913997e-01,  2.59244442e-02,\n",
       "       -2.96694964e-01, -2.03617990e-01, -5.14668345e-01, -1.46400023e+00,\n",
       "       -5.25349438e-01,  2.15584338e-02,  2.27979049e-01,  2.79776424e-01,\n",
       "        6.38493896e-01, -2.07778186e-01,  4.85944897e-01, -5.56701481e-01,\n",
       "        1.31310493e-01,  3.68771136e-01,  1.63854286e-02,  7.56077290e-01,\n",
       "       -8.18507612e-01,  5.13181746e-01,  4.26984400e-01, -8.40210259e-01,\n",
       "        8.98109674e-01, -4.99678284e-01,  1.20190799e-01,  1.64665684e-01,\n",
       "       -4.29876387e-01,  7.24611104e-01,  2.45024618e-02,  9.82150257e-01,\n",
       "       -4.05035913e-02,  1.58236958e-02,  2.32900366e-01,  2.39859521e-02,\n",
       "        1.93024933e-01,  6.14914715e-01, -2.07627982e-01,  3.00546885e-01,\n",
       "        8.15845430e-02, -5.23417071e-03, -1.42495245e-01, -8.56287360e-01,\n",
       "       -3.50483537e-01, -5.44312179e-01,  6.17091119e-01,  6.26809523e-02,\n",
       "        4.91086453e-01, -7.31795579e-02,  4.20455247e-01, -5.03365815e-01,\n",
       "       -1.13863921e+00, -5.40483035e-02, -8.51934850e-02,  7.88927972e-01,\n",
       "        1.18470073e-01,  1.11048892e-01, -2.74932981e-01, -5.20246267e-01,\n",
       "        7.07730651e-01,  2.59661049e-01,  1.20968252e-01, -3.86945635e-01,\n",
       "       -5.31110942e-01,  8.03573251e-01, -5.43148935e-01,  1.27014482e+00,\n",
       "       -1.93611097e+00,  3.31626892e-01, -6.17590845e-01, -5.45448005e-01,\n",
       "       -6.68905258e-01, -9.23017144e-01,  1.74333006e-01, -5.79929411e-01,\n",
       "       -1.54904276e-01, -7.81181335e-01, -1.88529596e-01,  5.18181741e-01,\n",
       "       -2.08426684e-01, -9.32931751e-02,  1.54872566e-01,  6.87922001e-01],\n",
       "      dtype=float32)"
      ]
     },
     "execution_count": 117,
     "metadata": {},
     "output_type": "execute_result"
    }
   ],
   "source": [
    "df[\"emb_ti_auth_sum\"].values.tolist()[0]"
   ]
  },
  {
   "cell_type": "code",
   "execution_count": 130,
   "metadata": {},
   "outputs": [
    {
     "name": "stdout",
     "output_type": "stream",
     "text": [
      "{'cond-mat.stat-mech': '#636EFA', 'hep-th': '#EF553B', 'hep-lat': '#00CC96', 'quant-ph': '#AB63FA', 'physics.space-ph': '#FFA15A', 'physics.atom-ph': '#19D3F3', 'math.SG': '#FF6692', 'physics.chem-ph': '#B6E880', 'hep-ph': '#FF97FF', 'astro-ph.IM': '#FECB52'}\n"
     ]
    }
   ],
   "source": [
    "from sklearn.decomposition import PCA\n",
    "import plotly.graph_objects as go\n",
    "import plotly.express as px\n",
    "\n",
    "pca = PCA(n_components= 3)\n",
    "embeddings_reduced = pca.fit_transform(df[\"emb_ti_auth_sum\"].values.tolist())\n",
    "df[\"emb_ti_auth_sum_reduced\"] = embeddings_reduced.tolist()\n",
    "\n",
    "unique_categories = df[\"primary_category\"].unique()\n",
    "color_mapping = {category: color for category, color in zip(unique_categories, px.colors.qualitative.Plotly)}\n",
    "\n",
    "print(color_mapping)\n",
    "# traces = []\n",
    "# for category in unique_categories:\n",
    "#     category_mask = df[\"primary_category\"] == category\n",
    "#     trace = go.Scatter3d(\n",
    "#         x=embeddings_reduced[category_mask, 0],\n",
    "#         y=embeddings_reduced[category_mask, 1],\n",
    "#         z=embeddings_reduced[category_mask, 2],\n",
    "#         mode=\"markers+text\",\n",
    "#         marker=dict(\n",
    "#             size=5,\n",
    "#             color=color_mapping[category]\n",
    "#         ),\n",
    "#         text= df[category_mask].index.values,\n",
    "#         name= category\n",
    "#     )\n",
    "#     traces.append(trace)\n",
    "\n",
    "# fig = go.Figure(data=traces)\n",
    "\n",
    "# fig.show()"
   ]
  },
  {
   "cell_type": "code",
   "execution_count": 33,
   "metadata": {},
   "outputs": [
    {
     "data": {
      "application/vnd.plotly.v1+json": {
       "config": {
        "plotlyServerURL": "https://plot.ly"
       },
       "data": [
        {
         "marker": {
          "color": [
           "blue",
           "blue",
           "red",
           "green",
           "orange",
           "orange",
           "purple",
           "orange",
           "yellow",
           "orange",
           "orange",
           "red",
           "gray",
           "orange",
           "orange",
           "gray",
           "orange",
           "blue",
           "orange",
           "gray",
           "orange",
           "gray",
           "orange",
           "orange",
           "orange"
          ],
          "colorscale": [
           [
            0,
            "#440154"
           ],
           [
            0.1111111111111111,
            "#482878"
           ],
           [
            0.2222222222222222,
            "#3e4989"
           ],
           [
            0.3333333333333333,
            "#31688e"
           ],
           [
            0.4444444444444444,
            "#26828e"
           ],
           [
            0.5555555555555556,
            "#1f9e89"
           ],
           [
            0.6666666666666666,
            "#35b779"
           ],
           [
            0.7777777777777778,
            "#6ece58"
           ],
           [
            0.8888888888888888,
            "#b5de2b"
           ],
           [
            1,
            "#fde725"
           ]
          ],
          "opacity": 0.8,
          "size": 4
         },
         "mode": "markers",
         "type": "scatter3d",
         "x": [
          3.3729109942523716,
          4.259740600260784,
          -2.3499059473368584,
          -0.6255847410566973,
          1.132682036409674,
          1.453403479550682,
          -3.2629040347125287,
          0.9830202048011732,
          -1.8996658798620183,
          -0.7083844536941264,
          -0.00032358458251686463,
          4.881516544479972,
          -1.5675043270845868,
          -4.758829058686385,
          -3.86617676369069,
          -1.2491691096581736,
          2.856228012077283,
          2.1909958487914634,
          1.3201696426843488,
          -3.258174967618846,
          -0.5788717049302633,
          -5.913746152826971,
          0.8930133970687645,
          2.113368020989008,
          4.582191944375123
         ],
         "y": [
          -2.173185369555709,
          -0.4289568673078281,
          -5.393706348997826,
          -0.5648707064081943,
          -2.3613462604152886,
          0.686316982583165,
          3.929898646687554,
          0.6063595361845368,
          -1.0003050379939384,
          1.42791673865381,
          -2.9808393961503437,
          1.7828385273688234,
          -4.95877405684611,
          -0.35353731473188665,
          0.6119174402209835,
          -1.3958728745805047,
          -0.8201338145426895,
          2.677222258765721,
          2.6964838283729695,
          -1.1856653397814425,
          2.205159158698872,
          4.887728697796952,
          -0.03181205576049395,
          -0.43657286734914447,
          2.573736495087989
         ],
         "z": [
          -0.8619701500142296,
          0.12389575760437173,
          -0.20818073769414047,
          -0.3906247742533445,
          1.3112026545988724,
          1.929584403816891,
          -5.540856589914719,
          -2.476841610237371,
          -0.37240153392301373,
          -0.21656814666789345,
          0.5256276259443879,
          -1.9470884280798695,
          1.6361665347205883,
          -2.3307718973692317,
          1.2549275696659787,
          -0.49221093965080964,
          0.9738315742586755,
          -1.1272288936276533,
          2.9668536654979625,
          -0.6328986714453905,
          2.360933142762572,
          3.728929448375142,
          -0.11196566312955204,
          -1.5241252747805643,
          1.4217809335423415
         ]
        }
       ],
       "layout": {
        "scene": {
         "xaxis": {
          "title": {
           "text": "PCA 1"
          }
         },
         "yaxis": {
          "title": {
           "text": "PCA 2"
          }
         },
         "zaxis": {
          "title": {
           "text": "PCA 3"
          }
         }
        },
        "template": {
         "data": {
          "bar": [
           {
            "error_x": {
             "color": "#2a3f5f"
            },
            "error_y": {
             "color": "#2a3f5f"
            },
            "marker": {
             "line": {
              "color": "#E5ECF6",
              "width": 0.5
             },
             "pattern": {
              "fillmode": "overlay",
              "size": 10,
              "solidity": 0.2
             }
            },
            "type": "bar"
           }
          ],
          "barpolar": [
           {
            "marker": {
             "line": {
              "color": "#E5ECF6",
              "width": 0.5
             },
             "pattern": {
              "fillmode": "overlay",
              "size": 10,
              "solidity": 0.2
             }
            },
            "type": "barpolar"
           }
          ],
          "carpet": [
           {
            "aaxis": {
             "endlinecolor": "#2a3f5f",
             "gridcolor": "white",
             "linecolor": "white",
             "minorgridcolor": "white",
             "startlinecolor": "#2a3f5f"
            },
            "baxis": {
             "endlinecolor": "#2a3f5f",
             "gridcolor": "white",
             "linecolor": "white",
             "minorgridcolor": "white",
             "startlinecolor": "#2a3f5f"
            },
            "type": "carpet"
           }
          ],
          "choropleth": [
           {
            "colorbar": {
             "outlinewidth": 0,
             "ticks": ""
            },
            "type": "choropleth"
           }
          ],
          "contour": [
           {
            "colorbar": {
             "outlinewidth": 0,
             "ticks": ""
            },
            "colorscale": [
             [
              0,
              "#0d0887"
             ],
             [
              0.1111111111111111,
              "#46039f"
             ],
             [
              0.2222222222222222,
              "#7201a8"
             ],
             [
              0.3333333333333333,
              "#9c179e"
             ],
             [
              0.4444444444444444,
              "#bd3786"
             ],
             [
              0.5555555555555556,
              "#d8576b"
             ],
             [
              0.6666666666666666,
              "#ed7953"
             ],
             [
              0.7777777777777778,
              "#fb9f3a"
             ],
             [
              0.8888888888888888,
              "#fdca26"
             ],
             [
              1,
              "#f0f921"
             ]
            ],
            "type": "contour"
           }
          ],
          "contourcarpet": [
           {
            "colorbar": {
             "outlinewidth": 0,
             "ticks": ""
            },
            "type": "contourcarpet"
           }
          ],
          "heatmap": [
           {
            "colorbar": {
             "outlinewidth": 0,
             "ticks": ""
            },
            "colorscale": [
             [
              0,
              "#0d0887"
             ],
             [
              0.1111111111111111,
              "#46039f"
             ],
             [
              0.2222222222222222,
              "#7201a8"
             ],
             [
              0.3333333333333333,
              "#9c179e"
             ],
             [
              0.4444444444444444,
              "#bd3786"
             ],
             [
              0.5555555555555556,
              "#d8576b"
             ],
             [
              0.6666666666666666,
              "#ed7953"
             ],
             [
              0.7777777777777778,
              "#fb9f3a"
             ],
             [
              0.8888888888888888,
              "#fdca26"
             ],
             [
              1,
              "#f0f921"
             ]
            ],
            "type": "heatmap"
           }
          ],
          "heatmapgl": [
           {
            "colorbar": {
             "outlinewidth": 0,
             "ticks": ""
            },
            "colorscale": [
             [
              0,
              "#0d0887"
             ],
             [
              0.1111111111111111,
              "#46039f"
             ],
             [
              0.2222222222222222,
              "#7201a8"
             ],
             [
              0.3333333333333333,
              "#9c179e"
             ],
             [
              0.4444444444444444,
              "#bd3786"
             ],
             [
              0.5555555555555556,
              "#d8576b"
             ],
             [
              0.6666666666666666,
              "#ed7953"
             ],
             [
              0.7777777777777778,
              "#fb9f3a"
             ],
             [
              0.8888888888888888,
              "#fdca26"
             ],
             [
              1,
              "#f0f921"
             ]
            ],
            "type": "heatmapgl"
           }
          ],
          "histogram": [
           {
            "marker": {
             "pattern": {
              "fillmode": "overlay",
              "size": 10,
              "solidity": 0.2
             }
            },
            "type": "histogram"
           }
          ],
          "histogram2d": [
           {
            "colorbar": {
             "outlinewidth": 0,
             "ticks": ""
            },
            "colorscale": [
             [
              0,
              "#0d0887"
             ],
             [
              0.1111111111111111,
              "#46039f"
             ],
             [
              0.2222222222222222,
              "#7201a8"
             ],
             [
              0.3333333333333333,
              "#9c179e"
             ],
             [
              0.4444444444444444,
              "#bd3786"
             ],
             [
              0.5555555555555556,
              "#d8576b"
             ],
             [
              0.6666666666666666,
              "#ed7953"
             ],
             [
              0.7777777777777778,
              "#fb9f3a"
             ],
             [
              0.8888888888888888,
              "#fdca26"
             ],
             [
              1,
              "#f0f921"
             ]
            ],
            "type": "histogram2d"
           }
          ],
          "histogram2dcontour": [
           {
            "colorbar": {
             "outlinewidth": 0,
             "ticks": ""
            },
            "colorscale": [
             [
              0,
              "#0d0887"
             ],
             [
              0.1111111111111111,
              "#46039f"
             ],
             [
              0.2222222222222222,
              "#7201a8"
             ],
             [
              0.3333333333333333,
              "#9c179e"
             ],
             [
              0.4444444444444444,
              "#bd3786"
             ],
             [
              0.5555555555555556,
              "#d8576b"
             ],
             [
              0.6666666666666666,
              "#ed7953"
             ],
             [
              0.7777777777777778,
              "#fb9f3a"
             ],
             [
              0.8888888888888888,
              "#fdca26"
             ],
             [
              1,
              "#f0f921"
             ]
            ],
            "type": "histogram2dcontour"
           }
          ],
          "mesh3d": [
           {
            "colorbar": {
             "outlinewidth": 0,
             "ticks": ""
            },
            "type": "mesh3d"
           }
          ],
          "parcoords": [
           {
            "line": {
             "colorbar": {
              "outlinewidth": 0,
              "ticks": ""
             }
            },
            "type": "parcoords"
           }
          ],
          "pie": [
           {
            "automargin": true,
            "type": "pie"
           }
          ],
          "scatter": [
           {
            "fillpattern": {
             "fillmode": "overlay",
             "size": 10,
             "solidity": 0.2
            },
            "type": "scatter"
           }
          ],
          "scatter3d": [
           {
            "line": {
             "colorbar": {
              "outlinewidth": 0,
              "ticks": ""
             }
            },
            "marker": {
             "colorbar": {
              "outlinewidth": 0,
              "ticks": ""
             }
            },
            "type": "scatter3d"
           }
          ],
          "scattercarpet": [
           {
            "marker": {
             "colorbar": {
              "outlinewidth": 0,
              "ticks": ""
             }
            },
            "type": "scattercarpet"
           }
          ],
          "scattergeo": [
           {
            "marker": {
             "colorbar": {
              "outlinewidth": 0,
              "ticks": ""
             }
            },
            "type": "scattergeo"
           }
          ],
          "scattergl": [
           {
            "marker": {
             "colorbar": {
              "outlinewidth": 0,
              "ticks": ""
             }
            },
            "type": "scattergl"
           }
          ],
          "scattermapbox": [
           {
            "marker": {
             "colorbar": {
              "outlinewidth": 0,
              "ticks": ""
             }
            },
            "type": "scattermapbox"
           }
          ],
          "scatterpolar": [
           {
            "marker": {
             "colorbar": {
              "outlinewidth": 0,
              "ticks": ""
             }
            },
            "type": "scatterpolar"
           }
          ],
          "scatterpolargl": [
           {
            "marker": {
             "colorbar": {
              "outlinewidth": 0,
              "ticks": ""
             }
            },
            "type": "scatterpolargl"
           }
          ],
          "scatterternary": [
           {
            "marker": {
             "colorbar": {
              "outlinewidth": 0,
              "ticks": ""
             }
            },
            "type": "scatterternary"
           }
          ],
          "surface": [
           {
            "colorbar": {
             "outlinewidth": 0,
             "ticks": ""
            },
            "colorscale": [
             [
              0,
              "#0d0887"
             ],
             [
              0.1111111111111111,
              "#46039f"
             ],
             [
              0.2222222222222222,
              "#7201a8"
             ],
             [
              0.3333333333333333,
              "#9c179e"
             ],
             [
              0.4444444444444444,
              "#bd3786"
             ],
             [
              0.5555555555555556,
              "#d8576b"
             ],
             [
              0.6666666666666666,
              "#ed7953"
             ],
             [
              0.7777777777777778,
              "#fb9f3a"
             ],
             [
              0.8888888888888888,
              "#fdca26"
             ],
             [
              1,
              "#f0f921"
             ]
            ],
            "type": "surface"
           }
          ],
          "table": [
           {
            "cells": {
             "fill": {
              "color": "#EBF0F8"
             },
             "line": {
              "color": "white"
             }
            },
            "header": {
             "fill": {
              "color": "#C8D4E3"
             },
             "line": {
              "color": "white"
             }
            },
            "type": "table"
           }
          ]
         },
         "layout": {
          "annotationdefaults": {
           "arrowcolor": "#2a3f5f",
           "arrowhead": 0,
           "arrowwidth": 1
          },
          "autotypenumbers": "strict",
          "coloraxis": {
           "colorbar": {
            "outlinewidth": 0,
            "ticks": ""
           }
          },
          "colorscale": {
           "diverging": [
            [
             0,
             "#8e0152"
            ],
            [
             0.1,
             "#c51b7d"
            ],
            [
             0.2,
             "#de77ae"
            ],
            [
             0.3,
             "#f1b6da"
            ],
            [
             0.4,
             "#fde0ef"
            ],
            [
             0.5,
             "#f7f7f7"
            ],
            [
             0.6,
             "#e6f5d0"
            ],
            [
             0.7,
             "#b8e186"
            ],
            [
             0.8,
             "#7fbc41"
            ],
            [
             0.9,
             "#4d9221"
            ],
            [
             1,
             "#276419"
            ]
           ],
           "sequential": [
            [
             0,
             "#0d0887"
            ],
            [
             0.1111111111111111,
             "#46039f"
            ],
            [
             0.2222222222222222,
             "#7201a8"
            ],
            [
             0.3333333333333333,
             "#9c179e"
            ],
            [
             0.4444444444444444,
             "#bd3786"
            ],
            [
             0.5555555555555556,
             "#d8576b"
            ],
            [
             0.6666666666666666,
             "#ed7953"
            ],
            [
             0.7777777777777778,
             "#fb9f3a"
            ],
            [
             0.8888888888888888,
             "#fdca26"
            ],
            [
             1,
             "#f0f921"
            ]
           ],
           "sequentialminus": [
            [
             0,
             "#0d0887"
            ],
            [
             0.1111111111111111,
             "#46039f"
            ],
            [
             0.2222222222222222,
             "#7201a8"
            ],
            [
             0.3333333333333333,
             "#9c179e"
            ],
            [
             0.4444444444444444,
             "#bd3786"
            ],
            [
             0.5555555555555556,
             "#d8576b"
            ],
            [
             0.6666666666666666,
             "#ed7953"
            ],
            [
             0.7777777777777778,
             "#fb9f3a"
            ],
            [
             0.8888888888888888,
             "#fdca26"
            ],
            [
             1,
             "#f0f921"
            ]
           ]
          },
          "colorway": [
           "#636efa",
           "#EF553B",
           "#00cc96",
           "#ab63fa",
           "#FFA15A",
           "#19d3f3",
           "#FF6692",
           "#B6E880",
           "#FF97FF",
           "#FECB52"
          ],
          "font": {
           "color": "#2a3f5f"
          },
          "geo": {
           "bgcolor": "white",
           "lakecolor": "white",
           "landcolor": "#E5ECF6",
           "showlakes": true,
           "showland": true,
           "subunitcolor": "white"
          },
          "hoverlabel": {
           "align": "left"
          },
          "hovermode": "closest",
          "mapbox": {
           "style": "light"
          },
          "paper_bgcolor": "white",
          "plot_bgcolor": "#E5ECF6",
          "polar": {
           "angularaxis": {
            "gridcolor": "white",
            "linecolor": "white",
            "ticks": ""
           },
           "bgcolor": "#E5ECF6",
           "radialaxis": {
            "gridcolor": "white",
            "linecolor": "white",
            "ticks": ""
           }
          },
          "scene": {
           "xaxis": {
            "backgroundcolor": "#E5ECF6",
            "gridcolor": "white",
            "gridwidth": 2,
            "linecolor": "white",
            "showbackground": true,
            "ticks": "",
            "zerolinecolor": "white"
           },
           "yaxis": {
            "backgroundcolor": "#E5ECF6",
            "gridcolor": "white",
            "gridwidth": 2,
            "linecolor": "white",
            "showbackground": true,
            "ticks": "",
            "zerolinecolor": "white"
           },
           "zaxis": {
            "backgroundcolor": "#E5ECF6",
            "gridcolor": "white",
            "gridwidth": 2,
            "linecolor": "white",
            "showbackground": true,
            "ticks": "",
            "zerolinecolor": "white"
           }
          },
          "shapedefaults": {
           "line": {
            "color": "#2a3f5f"
           }
          },
          "ternary": {
           "aaxis": {
            "gridcolor": "white",
            "linecolor": "white",
            "ticks": ""
           },
           "baxis": {
            "gridcolor": "white",
            "linecolor": "white",
            "ticks": ""
           },
           "bgcolor": "#E5ECF6",
           "caxis": {
            "gridcolor": "white",
            "linecolor": "white",
            "ticks": ""
           }
          },
          "title": {
           "x": 0.05
          },
          "xaxis": {
           "automargin": true,
           "gridcolor": "white",
           "linecolor": "white",
           "ticks": "",
           "title": {
            "standoff": 15
           },
           "zerolinecolor": "white",
           "zerolinewidth": 2
          },
          "yaxis": {
           "automargin": true,
           "gridcolor": "white",
           "linecolor": "white",
           "ticks": "",
           "title": {
            "standoff": 15
           },
           "zerolinecolor": "white",
           "zerolinewidth": 2
          }
         }
        },
        "title": {
         "text": "3D Visualisierung der Paper Embeddings"
        }
       }
      }
     },
     "metadata": {},
     "output_type": "display_data"
    }
   ],
   "source": [
    "from sklearn.decomposition import PCA\n",
    "from sklearn.metrics.pairwise import cosine_similarity\n",
    "import plotly.graph_objects as go\n",
    "\n",
    "\n",
    "pca = PCA(n_components=3)\n",
    "embeddings_reduced = pca.fit_transform(df[\"emb_ti_auth_sum\"].values.tolist())\n",
    "\n",
    "\n",
    "traces = []\n",
    "\n",
    "\n",
    "for idx, row in df.iterrows():\n",
    "\n",
    "    trace = go.Scatter3d(\n",
    "        x=[embeddings_reduced[idx, 0]], \n",
    "        y=[embeddings_reduced[idx, 1]], \n",
    "        z=[embeddings_reduced[idx, 2]],\n",
    "        mode=\"markers\",\n",
    "        marker=dict(\n",
    "            size= 4,\n",
    "            color= \"\",\n",
    "            colorscale= \"Viridis\",\n",
    "            opacity= 0.8\n",
    "        ),\n",
    "        text= f\"Title: {row['title']}<br>Authors: {row['authors']}<br>Primary Category: {row['primary_category']}\"\n",
    "    )\n",
    "\n",
    "    traces.append(trace)\n",
    "\n",
    "\n",
    "\n",
    "fig = go.Figure()\n",
    "\n",
    "fig.add_trace(go.Scatter3d(\n",
    "    x=embeddings_reduced[:, 0], \n",
    "    y=embeddings_reduced[:, 1], \n",
    "    z=embeddings_reduced[:, 2],\n",
    "    mode=\"markers\",\n",
    "    marker=dict(\n",
    "        size= 4,\n",
    "        color= \"\",\n",
    "        colorscale= \"Viridis\",\n",
    "        opacity= 0.8\n",
    "    )\n",
    "))\n",
    "\n",
    "fig.update_layout(\n",
    "    title=\"3D Visualisierung der Paper Embeddings\",\n",
    "    scene=dict(\n",
    "        xaxis_title=\"PCA 1\",\n",
    "        yaxis_title=\"PCA 2\",\n",
    "        zaxis_title=\"PCA 3\"\n",
    "    )\n",
    ")\n",
    "\n",
    "fig.show()"
   ]
  }
 ],
 "metadata": {
  "kernelspec": {
   "display_name": ".venv",
   "language": "python",
   "name": "python3"
  },
  "language_info": {
   "codemirror_mode": {
    "name": "ipython",
    "version": 3
   },
   "file_extension": ".py",
   "mimetype": "text/x-python",
   "name": "python",
   "nbconvert_exporter": "python",
   "pygments_lexer": "ipython3",
   "version": "3.12.2"
  }
 },
 "nbformat": 4,
 "nbformat_minor": 2
}
