{
 "cells": [
  {
   "cell_type": "code",
   "execution_count": 1,
   "metadata": {},
   "outputs": [],
   "source": [
    "import arxiv"
   ]
  },
  {
   "cell_type": "code",
   "execution_count": 2,
   "metadata": {},
   "outputs": [],
   "source": [
    "client = arxiv.Client()\n",
    "\n",
    "search = arxiv.Search(\n",
    "    query = \"quantum\",\n",
    "    max_results= 10,\n",
    "    sort_by = arxiv.SortCriterion.SubmittedDate\n",
    ")"
   ]
  },
  {
   "cell_type": "code",
   "execution_count": 18,
   "metadata": {},
   "outputs": [],
   "source": [
    "results = list(client.results(search))"
   ]
  },
  {
   "cell_type": "code",
   "execution_count": 20,
   "metadata": {},
   "outputs": [
    {
     "name": "stdout",
     "output_type": "stream",
     "text": [
      "Non-equilibrium dynamics of symmetry-resolved entanglement and entanglement asymmetry: Exact asymptotics in Rule 54 Katja Klobas\n",
      "Non-equilibrium dynamics of charged dual-unitary circuits Alessandro Foligno, Pasquale Calabrese, Bruno Bertini\n",
      "A concrete construction of a topological operator in factorization algebras Masashi Kawahira\n",
      "Lanczos for lattice QCD matrix elements Daniel C. Hackett, Michael L. Wagman\n",
      "Properties of Krylov state complexity in qubit dynamics Siddharth Seetharaman, Chetanya Singh, Rejish Nath\n",
      "Shadow Hamiltonian Simulation Rolando D. Somma, Robbie King, Robin Kothari, Thomas O'Brien, Ryan Babbush\n",
      "Spurious Solar-Wind Effects on Acceleration Noise in LISA Pathfinder Arnold Yang, Indie Desiderio-Sloane, Grant David Meadors\n",
      "Engineering a multi-level bath for transmon with three-wave mixing and parametric drives Xi Cao, Maria Mucci, Gangqiang Liu, David Pekker, Michael Hatridge\n",
      "Energy Transport Among Highly-Polarized Atoms Catherine D. Opsahl, Yuan Jiang, Samantha A. Grubb, Alan T. Okinaka, Nicolaus A. Chlanda, Hannah S. Conley, Aidan T. Kirk, Sarah E. Spielman, Thomas J. Carroll, Michael W. Noel\n",
      "Minimal Quantum Circuits for Simulating Fibonacci Anyons Sary Bseiso, Joel Pommerening, Richard R. Allen, Steven H. Simon, Layla Hormozi\n"
     ]
    }
   ],
   "source": [
    "for r in results:\n",
    "    print(r.title, ', '.join([author.name for author in r.authors]))"
   ]
  },
  {
   "cell_type": "code",
   "execution_count": 24,
   "metadata": {},
   "outputs": [
    {
     "name": "stdout",
     "output_type": "stream",
     "text": [
      "http://arxiv.org/abs/2407.21761v1\n",
      "http://arxiv.org/pdf/2407.21761v1\n"
     ]
    }
   ],
   "source": [
    "for r in r.links:\n",
    "    print(r)"
   ]
  },
  {
   "cell_type": "code",
   "execution_count": 59,
   "metadata": {},
   "outputs": [
    {
     "name": "stdout",
     "output_type": "stream",
     "text": [
      "[arxiv.Result.Author('Katja Klobas')]\n",
      "[arxiv.Result.Author('Alessandro Foligno'), arxiv.Result.Author('Pasquale Calabrese'), arxiv.Result.Author('Bruno Bertini')]\n",
      "[arxiv.Result.Author('Masashi Kawahira')]\n",
      "[arxiv.Result.Author('Daniel C. Hackett'), arxiv.Result.Author('Michael L. Wagman')]\n",
      "[arxiv.Result.Author('Siddharth Seetharaman'), arxiv.Result.Author('Chetanya Singh'), arxiv.Result.Author('Rejish Nath')]\n",
      "[arxiv.Result.Author('Rolando D. Somma'), arxiv.Result.Author('Robbie King'), arxiv.Result.Author('Robin Kothari'), arxiv.Result.Author(\"Thomas O'Brien\"), arxiv.Result.Author('Ryan Babbush')]\n",
      "[arxiv.Result.Author('Arnold Yang'), arxiv.Result.Author('Indie Desiderio-Sloane'), arxiv.Result.Author('Grant David Meadors')]\n",
      "[arxiv.Result.Author('Xi Cao'), arxiv.Result.Author('Maria Mucci'), arxiv.Result.Author('Gangqiang Liu'), arxiv.Result.Author('David Pekker'), arxiv.Result.Author('Michael Hatridge')]\n",
      "[arxiv.Result.Author('Catherine D. Opsahl'), arxiv.Result.Author('Yuan Jiang'), arxiv.Result.Author('Samantha A. Grubb'), arxiv.Result.Author('Alan T. Okinaka'), arxiv.Result.Author('Nicolaus A. Chlanda'), arxiv.Result.Author('Hannah S. Conley'), arxiv.Result.Author('Aidan T. Kirk'), arxiv.Result.Author('Sarah E. Spielman'), arxiv.Result.Author('Thomas J. Carroll'), arxiv.Result.Author('Michael W. Noel')]\n",
      "[arxiv.Result.Author('Sary Bseiso'), arxiv.Result.Author('Joel Pommerening'), arxiv.Result.Author('Richard R. Allen'), arxiv.Result.Author('Steven H. Simon'), arxiv.Result.Author('Layla Hormozi')]\n"
     ]
    }
   ],
   "source": [
    "for r in client.results(search):\n",
    "    print(r.authors)"
   ]
  },
  {
   "cell_type": "code",
   "execution_count": 60,
   "metadata": {},
   "outputs": [],
   "source": [
    "import pandas as pd\n",
    "\n",
    "# Erstellen einer leeren Liste, um die Daten für den DataFrame zu sammeln\n",
    "data = []\n",
    "\n",
    "# Durchlaufen der Ergebnisse und Sammeln der Daten\n",
    "for r in results:\n",
    "    data.append({\n",
    "        'title': r.title,\n",
    "        'authors': ', '.join([author.name for author in r.authors]),\n",
    "        'published': r.published,\n",
    "        'summary': r.summary,\n",
    "        'primary_category': r.primary_category,\n",
    "        'categories': ', '.join(r.categories),\n",
    "        \"links\": r.links\n",
    "    })\n",
    "\n",
    "# Erstellen des DataFrame aus der gesammelten Datenliste\n",
    "df = pd.DataFrame(data)\n",
    "df[\"published\"] = pd.to_datetime(df[\"published\"]).dt.date\n"
   ]
  },
  {
   "cell_type": "code",
   "execution_count": 61,
   "metadata": {},
   "outputs": [
    {
     "data": {
      "text/html": [
       "<div>\n",
       "<style scoped>\n",
       "    .dataframe tbody tr th:only-of-type {\n",
       "        vertical-align: middle;\n",
       "    }\n",
       "\n",
       "    .dataframe tbody tr th {\n",
       "        vertical-align: top;\n",
       "    }\n",
       "\n",
       "    .dataframe thead th {\n",
       "        text-align: right;\n",
       "    }\n",
       "</style>\n",
       "<table border=\"1\" class=\"dataframe\">\n",
       "  <thead>\n",
       "    <tr style=\"text-align: right;\">\n",
       "      <th></th>\n",
       "      <th>title</th>\n",
       "      <th>authors</th>\n",
       "      <th>published</th>\n",
       "      <th>summary</th>\n",
       "      <th>primary_category</th>\n",
       "      <th>categories</th>\n",
       "      <th>links</th>\n",
       "    </tr>\n",
       "  </thead>\n",
       "  <tbody>\n",
       "    <tr>\n",
       "      <th>0</th>\n",
       "      <td>Non-equilibrium dynamics of symmetry-resolved ...</td>\n",
       "      <td>Katja Klobas</td>\n",
       "      <td>2024-07-31</td>\n",
       "      <td>Symmetry resolved entanglement and entanglemen...</td>\n",
       "      <td>cond-mat.stat-mech</td>\n",
       "      <td>cond-mat.stat-mech, nlin.CG, nlin.SI, quant-ph</td>\n",
       "      <td>[http://arxiv.org/abs/2407.21793v1, http://arx...</td>\n",
       "    </tr>\n",
       "    <tr>\n",
       "      <th>1</th>\n",
       "      <td>Non-equilibrium dynamics of charged dual-unita...</td>\n",
       "      <td>Alessandro Foligno, Pasquale Calabrese, Bruno ...</td>\n",
       "      <td>2024-07-31</td>\n",
       "      <td>The interplay between symmetries and entanglem...</td>\n",
       "      <td>cond-mat.stat-mech</td>\n",
       "      <td>cond-mat.stat-mech, hep-th, math-ph, math.MP, ...</td>\n",
       "      <td>[http://arxiv.org/abs/2407.21786v1, http://arx...</td>\n",
       "    </tr>\n",
       "    <tr>\n",
       "      <th>2</th>\n",
       "      <td>A concrete construction of a topological opera...</td>\n",
       "      <td>Masashi Kawahira</td>\n",
       "      <td>2024-07-31</td>\n",
       "      <td>Factorization algebras play a central role in ...</td>\n",
       "      <td>hep-th</td>\n",
       "      <td>hep-th, math-ph, math.MP</td>\n",
       "      <td>[http://arxiv.org/abs/2407.21784v1, http://arx...</td>\n",
       "    </tr>\n",
       "    <tr>\n",
       "      <th>3</th>\n",
       "      <td>Lanczos for lattice QCD matrix elements</td>\n",
       "      <td>Daniel C. Hackett, Michael L. Wagman</td>\n",
       "      <td>2024-07-31</td>\n",
       "      <td>Recent work found that an analysis formalism b...</td>\n",
       "      <td>hep-lat</td>\n",
       "      <td>hep-lat</td>\n",
       "      <td>[http://arxiv.org/abs/2407.21777v1, http://arx...</td>\n",
       "    </tr>\n",
       "    <tr>\n",
       "      <th>4</th>\n",
       "      <td>Properties of Krylov state complexity in qubit...</td>\n",
       "      <td>Siddharth Seetharaman, Chetanya Singh, Rejish ...</td>\n",
       "      <td>2024-07-31</td>\n",
       "      <td>We analyze the properties of Krylov-state comp...</td>\n",
       "      <td>quant-ph</td>\n",
       "      <td>quant-ph, cond-mat.quant-gas</td>\n",
       "      <td>[http://arxiv.org/abs/2407.21776v1, http://arx...</td>\n",
       "    </tr>\n",
       "    <tr>\n",
       "      <th>5</th>\n",
       "      <td>Shadow Hamiltonian Simulation</td>\n",
       "      <td>Rolando D. Somma, Robbie King, Robin Kothari, ...</td>\n",
       "      <td>2024-07-31</td>\n",
       "      <td>We present shadow Hamiltonian simulation, a fr...</td>\n",
       "      <td>quant-ph</td>\n",
       "      <td>quant-ph</td>\n",
       "      <td>[http://arxiv.org/abs/2407.21775v1, http://arx...</td>\n",
       "    </tr>\n",
       "    <tr>\n",
       "      <th>6</th>\n",
       "      <td>Spurious Solar-Wind Effects on Acceleration No...</td>\n",
       "      <td>Arnold Yang, Indie Desiderio-Sloane, Grant Dav...</td>\n",
       "      <td>2024-07-31</td>\n",
       "      <td>Spurious solar-wind effects are a potential no...</td>\n",
       "      <td>physics.space-ph</td>\n",
       "      <td>physics.space-ph, astro-ph.IM, gr-qc</td>\n",
       "      <td>[http://arxiv.org/abs/2407.21774v1, http://arx...</td>\n",
       "    </tr>\n",
       "    <tr>\n",
       "      <th>7</th>\n",
       "      <td>Engineering a multi-level bath for transmon wi...</td>\n",
       "      <td>Xi Cao, Maria Mucci, Gangqiang Liu, David Pekk...</td>\n",
       "      <td>2024-07-31</td>\n",
       "      <td>A photonic system with a tunable bath environm...</td>\n",
       "      <td>quant-ph</td>\n",
       "      <td>quant-ph</td>\n",
       "      <td>[http://arxiv.org/abs/2407.21765v1, http://arx...</td>\n",
       "    </tr>\n",
       "    <tr>\n",
       "      <th>8</th>\n",
       "      <td>Energy Transport Among Highly-Polarized Atoms</td>\n",
       "      <td>Catherine D. Opsahl, Yuan Jiang, Samantha A. G...</td>\n",
       "      <td>2024-07-31</td>\n",
       "      <td>A static electric field of a few V/cm shifts t...</td>\n",
       "      <td>physics.atom-ph</td>\n",
       "      <td>physics.atom-ph, quant-ph</td>\n",
       "      <td>[http://arxiv.org/abs/2407.21764v1, http://arx...</td>\n",
       "    </tr>\n",
       "    <tr>\n",
       "      <th>9</th>\n",
       "      <td>Minimal Quantum Circuits for Simulating Fibona...</td>\n",
       "      <td>Sary Bseiso, Joel Pommerening, Richard R. Alle...</td>\n",
       "      <td>2024-07-31</td>\n",
       "      <td>The Fibonacci topological order is the prime c...</td>\n",
       "      <td>quant-ph</td>\n",
       "      <td>quant-ph, cond-mat.str-el, math-ph, math.MP</td>\n",
       "      <td>[http://arxiv.org/abs/2407.21761v1, http://arx...</td>\n",
       "    </tr>\n",
       "  </tbody>\n",
       "</table>\n",
       "</div>"
      ],
      "text/plain": [
       "                                               title  \\\n",
       "0  Non-equilibrium dynamics of symmetry-resolved ...   \n",
       "1  Non-equilibrium dynamics of charged dual-unita...   \n",
       "2  A concrete construction of a topological opera...   \n",
       "3            Lanczos for lattice QCD matrix elements   \n",
       "4  Properties of Krylov state complexity in qubit...   \n",
       "5                      Shadow Hamiltonian Simulation   \n",
       "6  Spurious Solar-Wind Effects on Acceleration No...   \n",
       "7  Engineering a multi-level bath for transmon wi...   \n",
       "8      Energy Transport Among Highly-Polarized Atoms   \n",
       "9  Minimal Quantum Circuits for Simulating Fibona...   \n",
       "\n",
       "                                             authors   published  \\\n",
       "0                                       Katja Klobas  2024-07-31   \n",
       "1  Alessandro Foligno, Pasquale Calabrese, Bruno ...  2024-07-31   \n",
       "2                                   Masashi Kawahira  2024-07-31   \n",
       "3               Daniel C. Hackett, Michael L. Wagman  2024-07-31   \n",
       "4  Siddharth Seetharaman, Chetanya Singh, Rejish ...  2024-07-31   \n",
       "5  Rolando D. Somma, Robbie King, Robin Kothari, ...  2024-07-31   \n",
       "6  Arnold Yang, Indie Desiderio-Sloane, Grant Dav...  2024-07-31   \n",
       "7  Xi Cao, Maria Mucci, Gangqiang Liu, David Pekk...  2024-07-31   \n",
       "8  Catherine D. Opsahl, Yuan Jiang, Samantha A. G...  2024-07-31   \n",
       "9  Sary Bseiso, Joel Pommerening, Richard R. Alle...  2024-07-31   \n",
       "\n",
       "                                             summary    primary_category  \\\n",
       "0  Symmetry resolved entanglement and entanglemen...  cond-mat.stat-mech   \n",
       "1  The interplay between symmetries and entanglem...  cond-mat.stat-mech   \n",
       "2  Factorization algebras play a central role in ...              hep-th   \n",
       "3  Recent work found that an analysis formalism b...             hep-lat   \n",
       "4  We analyze the properties of Krylov-state comp...            quant-ph   \n",
       "5  We present shadow Hamiltonian simulation, a fr...            quant-ph   \n",
       "6  Spurious solar-wind effects are a potential no...    physics.space-ph   \n",
       "7  A photonic system with a tunable bath environm...            quant-ph   \n",
       "8  A static electric field of a few V/cm shifts t...     physics.atom-ph   \n",
       "9  The Fibonacci topological order is the prime c...            quant-ph   \n",
       "\n",
       "                                          categories  \\\n",
       "0     cond-mat.stat-mech, nlin.CG, nlin.SI, quant-ph   \n",
       "1  cond-mat.stat-mech, hep-th, math-ph, math.MP, ...   \n",
       "2                           hep-th, math-ph, math.MP   \n",
       "3                                            hep-lat   \n",
       "4                       quant-ph, cond-mat.quant-gas   \n",
       "5                                           quant-ph   \n",
       "6               physics.space-ph, astro-ph.IM, gr-qc   \n",
       "7                                           quant-ph   \n",
       "8                          physics.atom-ph, quant-ph   \n",
       "9        quant-ph, cond-mat.str-el, math-ph, math.MP   \n",
       "\n",
       "                                               links  \n",
       "0  [http://arxiv.org/abs/2407.21793v1, http://arx...  \n",
       "1  [http://arxiv.org/abs/2407.21786v1, http://arx...  \n",
       "2  [http://arxiv.org/abs/2407.21784v1, http://arx...  \n",
       "3  [http://arxiv.org/abs/2407.21777v1, http://arx...  \n",
       "4  [http://arxiv.org/abs/2407.21776v1, http://arx...  \n",
       "5  [http://arxiv.org/abs/2407.21775v1, http://arx...  \n",
       "6  [http://arxiv.org/abs/2407.21774v1, http://arx...  \n",
       "7  [http://arxiv.org/abs/2407.21765v1, http://arx...  \n",
       "8  [http://arxiv.org/abs/2407.21764v1, http://arx...  \n",
       "9  [http://arxiv.org/abs/2407.21761v1, http://arx...  "
      ]
     },
     "execution_count": 61,
     "metadata": {},
     "output_type": "execute_result"
    }
   ],
   "source": [
    "df"
   ]
  },
  {
   "cell_type": "code",
   "execution_count": 45,
   "metadata": {},
   "outputs": [
    {
     "data": {
      "text/plain": [
       "0    [http://arxiv.org/abs/2407.21793v1, http://arx...\n",
       "Name: links, dtype: object"
      ]
     },
     "execution_count": 45,
     "metadata": {},
     "output_type": "execute_result"
    }
   ],
   "source": [
    "max_button_label = 103\n",
    "\n",
    "for idx, row in st.session_state.search_results_df.iterrows():\n",
    "    display_title = (f\"{idx+1}.\" + row['title'][:max_button_label] + \"...\") if len(row['title']) > max_button_label else f\"{idx+1}.\"\n",
    "    #st.button(label= display_title, key= display_title, on_click= select_paper, args= (row[\"title\"], ', '.join([author.name for author in row[\"authors\"]]), row[\"summary\"], str(row[\"published\"]), r.links), use_container_width= False, help= \"Click to see description.\"))"
   ]
  }
 ],
 "metadata": {
  "kernelspec": {
   "display_name": ".venv",
   "language": "python",
   "name": "python3"
  },
  "language_info": {
   "codemirror_mode": {
    "name": "ipython",
    "version": 3
   },
   "file_extension": ".py",
   "mimetype": "text/x-python",
   "name": "python",
   "nbconvert_exporter": "python",
   "pygments_lexer": "ipython3",
   "version": "3.12.2"
  }
 },
 "nbformat": 4,
 "nbformat_minor": 2
}
