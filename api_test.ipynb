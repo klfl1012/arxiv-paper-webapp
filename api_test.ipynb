{
 "cells": [
  {
   "cell_type": "code",
   "execution_count": 1,
   "metadata": {},
   "outputs": [],
   "source": [
    "import arxiv"
   ]
  },
  {
   "cell_type": "code",
   "execution_count": 2,
   "metadata": {},
   "outputs": [],
   "source": [
    "client = arxiv.Client()\n",
    "\n",
    "search = arxiv.Search(\n",
    "    query = \"quantum\",\n",
    "    max_results= 10,\n",
    "    sort_by = arxiv.SortCriterion.SubmittedDate\n",
    ")"
   ]
  },
  {
   "cell_type": "code",
   "execution_count": 18,
   "metadata": {},
   "outputs": [],
   "source": [
    "results = list(client.results(search))"
   ]
  },
  {
   "cell_type": "code",
   "execution_count": 20,
   "metadata": {},
   "outputs": [
    {
     "name": "stdout",
     "output_type": "stream",
     "text": [
      "Non-equilibrium dynamics of symmetry-resolved entanglement and entanglement asymmetry: Exact asymptotics in Rule 54 Katja Klobas\n",
      "Non-equilibrium dynamics of charged dual-unitary circuits Alessandro Foligno, Pasquale Calabrese, Bruno Bertini\n",
      "A concrete construction of a topological operator in factorization algebras Masashi Kawahira\n",
      "Lanczos for lattice QCD matrix elements Daniel C. Hackett, Michael L. Wagman\n",
      "Properties of Krylov state complexity in qubit dynamics Siddharth Seetharaman, Chetanya Singh, Rejish Nath\n",
      "Shadow Hamiltonian Simulation Rolando D. Somma, Robbie King, Robin Kothari, Thomas O'Brien, Ryan Babbush\n",
      "Spurious Solar-Wind Effects on Acceleration Noise in LISA Pathfinder Arnold Yang, Indie Desiderio-Sloane, Grant David Meadors\n",
      "Engineering a multi-level bath for transmon with three-wave mixing and parametric drives Xi Cao, Maria Mucci, Gangqiang Liu, David Pekker, Michael Hatridge\n",
      "Energy Transport Among Highly-Polarized Atoms Catherine D. Opsahl, Yuan Jiang, Samantha A. Grubb, Alan T. Okinaka, Nicolaus A. Chlanda, Hannah S. Conley, Aidan T. Kirk, Sarah E. Spielman, Thomas J. Carroll, Michael W. Noel\n",
      "Minimal Quantum Circuits for Simulating Fibonacci Anyons Sary Bseiso, Joel Pommerening, Richard R. Allen, Steven H. Simon, Layla Hormozi\n"
     ]
    }
   ],
   "source": [
    "for r in results:\n",
    "    print(r.title, ', '.join([author.name for author in r.authors]))"
   ]
  },
  {
   "cell_type": "code",
   "execution_count": 22,
   "metadata": {},
   "outputs": [
    {
     "data": {
      "text/plain": [
       "datetime.datetime"
      ]
     },
     "execution_count": 22,
     "metadata": {},
     "output_type": "execute_result"
    }
   ],
   "source": [
    "type(r.links)"
   ]
  },
  {
   "cell_type": "code",
   "execution_count": 6,
   "metadata": {},
   "outputs": [
    {
     "name": "stdout",
     "output_type": "stream",
     "text": [
      "Non-equilibrium dynamics of symmetry-resolved entanglement and entanglement asymmetry: Exact asymptotics in Rule 54\n",
      "Non-equilibrium dynamics of charged dual-unitary circuits\n",
      "A concrete construction of a topological operator in factorization algebras\n",
      "Lanczos for lattice QCD matrix elements\n",
      "Properties of Krylov state complexity in qubit dynamics\n",
      "Shadow Hamiltonian Simulation\n",
      "Spurious Solar-Wind Effects on Acceleration Noise in LISA Pathfinder\n",
      "Engineering a multi-level bath for transmon with three-wave mixing and parametric drives\n",
      "Energy Transport Among Highly-Polarized Atoms\n",
      "Minimal Quantum Circuits for Simulating Fibonacci Anyons\n"
     ]
    }
   ],
   "source": [
    "for r in client.results(search):\n",
    "    print(r.title)"
   ]
  }
 ],
 "metadata": {
  "kernelspec": {
   "display_name": ".venv",
   "language": "python",
   "name": "python3"
  },
  "language_info": {
   "codemirror_mode": {
    "name": "ipython",
    "version": 3
   },
   "file_extension": ".py",
   "mimetype": "text/x-python",
   "name": "python",
   "nbconvert_exporter": "python",
   "pygments_lexer": "ipython3",
   "version": "3.12.2"
  }
 },
 "nbformat": 4,
 "nbformat_minor": 2
}
