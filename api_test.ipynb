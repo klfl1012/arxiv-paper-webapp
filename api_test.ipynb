{
 "cells": [
  {
   "cell_type": "code",
   "execution_count": 1,
   "metadata": {},
   "outputs": [],
   "source": [
    "import arxiv"
   ]
  },
  {
   "cell_type": "code",
   "execution_count": 2,
   "metadata": {},
   "outputs": [],
   "source": [
    "client = arxiv.Client()\n",
    "\n",
    "search = arxiv.Search(\n",
    "    query = \"quantum\",\n",
    "    max_results= 25,\n",
    "    sort_by = arxiv.SortCriterion.SubmittedDate\n",
    ")"
   ]
  },
  {
   "cell_type": "code",
   "execution_count": 3,
   "metadata": {},
   "outputs": [],
   "source": [
    "results = list(client.results(search))"
   ]
  },
  {
   "cell_type": "code",
   "execution_count": 4,
   "metadata": {},
   "outputs": [],
   "source": [
    "import pandas as pd\n",
    "\n",
    "# Erstellen einer leeren Liste, um die Daten für den DataFrame zu sammeln\n",
    "data = []\n",
    "\n",
    "# Durchlaufen der Ergebnisse und Sammeln der Daten\n",
    "for r in results:\n",
    "    data.append({\n",
    "        'title': r.title,\n",
    "        'authors': ', '.join([author.name for author in r.authors]),\n",
    "        'published': r.published,\n",
    "        'summary': r.summary,\n",
    "        'primary_category': r.primary_category,\n",
    "        'categories': ', '.join(r.categories),\n",
    "        \"links\": [link.href for link in r.links]\n",
    "    })\n",
    "\n",
    "# Erstellen des DataFrame aus der gesammelten Datenliste\n",
    "df = pd.DataFrame(data)\n",
    "df[\"published\"] = pd.to_datetime(df[\"published\"]).dt.date\n"
   ]
  },
  {
   "cell_type": "code",
   "execution_count": 5,
   "metadata": {},
   "outputs": [
    {
     "data": {
      "text/html": [
       "<div>\n",
       "<style scoped>\n",
       "    .dataframe tbody tr th:only-of-type {\n",
       "        vertical-align: middle;\n",
       "    }\n",
       "\n",
       "    .dataframe tbody tr th {\n",
       "        vertical-align: top;\n",
       "    }\n",
       "\n",
       "    .dataframe thead th {\n",
       "        text-align: right;\n",
       "    }\n",
       "</style>\n",
       "<table border=\"1\" class=\"dataframe\">\n",
       "  <thead>\n",
       "    <tr style=\"text-align: right;\">\n",
       "      <th></th>\n",
       "      <th>title</th>\n",
       "      <th>authors</th>\n",
       "      <th>published</th>\n",
       "      <th>summary</th>\n",
       "      <th>primary_category</th>\n",
       "      <th>categories</th>\n",
       "      <th>links</th>\n",
       "    </tr>\n",
       "  </thead>\n",
       "  <tbody>\n",
       "    <tr>\n",
       "      <th>0</th>\n",
       "      <td>Non-equilibrium dynamics of symmetry-resolved ...</td>\n",
       "      <td>Katja Klobas</td>\n",
       "      <td>2024-07-31</td>\n",
       "      <td>Symmetry resolved entanglement and entanglemen...</td>\n",
       "      <td>cond-mat.stat-mech</td>\n",
       "      <td>cond-mat.stat-mech, nlin.CG, nlin.SI, quant-ph</td>\n",
       "      <td>[http://arxiv.org/abs/2407.21793v1, http://arx...</td>\n",
       "    </tr>\n",
       "    <tr>\n",
       "      <th>1</th>\n",
       "      <td>Non-equilibrium dynamics of charged dual-unita...</td>\n",
       "      <td>Alessandro Foligno, Pasquale Calabrese, Bruno ...</td>\n",
       "      <td>2024-07-31</td>\n",
       "      <td>The interplay between symmetries and entanglem...</td>\n",
       "      <td>cond-mat.stat-mech</td>\n",
       "      <td>cond-mat.stat-mech, hep-th, math-ph, math.MP, ...</td>\n",
       "      <td>[http://arxiv.org/abs/2407.21786v1, http://arx...</td>\n",
       "    </tr>\n",
       "    <tr>\n",
       "      <th>2</th>\n",
       "      <td>A concrete construction of a topological opera...</td>\n",
       "      <td>Masashi Kawahira</td>\n",
       "      <td>2024-07-31</td>\n",
       "      <td>Factorization algebras play a central role in ...</td>\n",
       "      <td>hep-th</td>\n",
       "      <td>hep-th, math-ph, math.MP</td>\n",
       "      <td>[http://arxiv.org/abs/2407.21784v1, http://arx...</td>\n",
       "    </tr>\n",
       "    <tr>\n",
       "      <th>3</th>\n",
       "      <td>Lanczos for lattice QCD matrix elements</td>\n",
       "      <td>Daniel C. Hackett, Michael L. Wagman</td>\n",
       "      <td>2024-07-31</td>\n",
       "      <td>Recent work found that an analysis formalism b...</td>\n",
       "      <td>hep-lat</td>\n",
       "      <td>hep-lat</td>\n",
       "      <td>[http://arxiv.org/abs/2407.21777v1, http://arx...</td>\n",
       "    </tr>\n",
       "    <tr>\n",
       "      <th>4</th>\n",
       "      <td>Properties of Krylov state complexity in qubit...</td>\n",
       "      <td>Siddharth Seetharaman, Chetanya Singh, Rejish ...</td>\n",
       "      <td>2024-07-31</td>\n",
       "      <td>We analyze the properties of Krylov state comp...</td>\n",
       "      <td>quant-ph</td>\n",
       "      <td>quant-ph, cond-mat.quant-gas</td>\n",
       "      <td>[http://arxiv.org/abs/2407.21776v2, http://arx...</td>\n",
       "    </tr>\n",
       "    <tr>\n",
       "      <th>5</th>\n",
       "      <td>Shadow Hamiltonian Simulation</td>\n",
       "      <td>Rolando D. Somma, Robbie King, Robin Kothari, ...</td>\n",
       "      <td>2024-07-31</td>\n",
       "      <td>We present shadow Hamiltonian simulation, a fr...</td>\n",
       "      <td>quant-ph</td>\n",
       "      <td>quant-ph</td>\n",
       "      <td>[http://arxiv.org/abs/2407.21775v1, http://arx...</td>\n",
       "    </tr>\n",
       "    <tr>\n",
       "      <th>6</th>\n",
       "      <td>Spurious Solar-Wind Effects on Acceleration No...</td>\n",
       "      <td>Arnold Yang, Indie Desiderio-Sloane, Grant Dav...</td>\n",
       "      <td>2024-07-31</td>\n",
       "      <td>Spurious solar-wind effects are a potential no...</td>\n",
       "      <td>physics.space-ph</td>\n",
       "      <td>physics.space-ph, astro-ph.IM, gr-qc</td>\n",
       "      <td>[http://arxiv.org/abs/2407.21774v1, http://arx...</td>\n",
       "    </tr>\n",
       "    <tr>\n",
       "      <th>7</th>\n",
       "      <td>Engineering a multi-level bath for transmon wi...</td>\n",
       "      <td>Xi Cao, Maria Mucci, Gangqiang Liu, David Pekk...</td>\n",
       "      <td>2024-07-31</td>\n",
       "      <td>A photonic system with a tunable bath environm...</td>\n",
       "      <td>quant-ph</td>\n",
       "      <td>quant-ph</td>\n",
       "      <td>[http://arxiv.org/abs/2407.21765v1, http://arx...</td>\n",
       "    </tr>\n",
       "    <tr>\n",
       "      <th>8</th>\n",
       "      <td>Energy Transport Among Highly-Polarized Atoms</td>\n",
       "      <td>Catherine D. Opsahl, Yuan Jiang, Samantha A. G...</td>\n",
       "      <td>2024-07-31</td>\n",
       "      <td>A static electric field of a few V/cm shifts t...</td>\n",
       "      <td>physics.atom-ph</td>\n",
       "      <td>physics.atom-ph, quant-ph</td>\n",
       "      <td>[http://arxiv.org/abs/2407.21764v1, http://arx...</td>\n",
       "    </tr>\n",
       "    <tr>\n",
       "      <th>9</th>\n",
       "      <td>Minimal Quantum Circuits for Simulating Fibona...</td>\n",
       "      <td>Sary Bseiso, Joel Pommerening, Richard R. Alle...</td>\n",
       "      <td>2024-07-31</td>\n",
       "      <td>The Fibonacci topological order is the prime c...</td>\n",
       "      <td>quant-ph</td>\n",
       "      <td>quant-ph, cond-mat.str-el, math-ph, math.MP</td>\n",
       "      <td>[http://arxiv.org/abs/2407.21761v1, http://arx...</td>\n",
       "    </tr>\n",
       "    <tr>\n",
       "      <th>10</th>\n",
       "      <td>No-Go Theorems for Universal Entanglement Puri...</td>\n",
       "      <td>Allen Zang, Xinan Chen, Eric Chitambar, Martin...</td>\n",
       "      <td>2024-07-31</td>\n",
       "      <td>An entanglement purification protocol (EPP) ai...</td>\n",
       "      <td>quant-ph</td>\n",
       "      <td>quant-ph</td>\n",
       "      <td>[http://arxiv.org/abs/2407.21760v1, http://arx...</td>\n",
       "    </tr>\n",
       "    <tr>\n",
       "      <th>11</th>\n",
       "      <td>Energy-time uncertainty relation from entropy ...</td>\n",
       "      <td>Nana Cabo Bizet, Octavio Obregón, Wilfredo Yup...</td>\n",
       "      <td>2024-07-31</td>\n",
       "      <td>The Generalized Uncertainty Principle (GUP) mo...</td>\n",
       "      <td>hep-th</td>\n",
       "      <td>hep-th, gr-qc</td>\n",
       "      <td>[http://arxiv.org/abs/2407.21746v1, http://arx...</td>\n",
       "    </tr>\n",
       "    <tr>\n",
       "      <th>12</th>\n",
       "      <td>Rabinowitz Floer homology as a Tate vector space</td>\n",
       "      <td>Kai Cieliebak, Alexandru Oancea</td>\n",
       "      <td>2024-07-31</td>\n",
       "      <td>We show that the category of linearly topologi...</td>\n",
       "      <td>math.SG</td>\n",
       "      <td>math.SG, math.FA, math.QA, 57R58, 46A20, 46M05...</td>\n",
       "      <td>[http://arxiv.org/abs/2407.21741v1, http://arx...</td>\n",
       "    </tr>\n",
       "    <tr>\n",
       "      <th>13</th>\n",
       "      <td>An open-source framework for quantum hardware ...</td>\n",
       "      <td>Edoardo Pedicillo, Alessandro Candido, Stavros...</td>\n",
       "      <td>2024-07-31</td>\n",
       "      <td>The development of quantum computers needs rel...</td>\n",
       "      <td>quant-ph</td>\n",
       "      <td>quant-ph</td>\n",
       "      <td>[http://arxiv.org/abs/2407.21737v1, http://arx...</td>\n",
       "    </tr>\n",
       "    <tr>\n",
       "      <th>14</th>\n",
       "      <td>Linking quantum discord with Bayesian game theory</td>\n",
       "      <td>Adam Lowe</td>\n",
       "      <td>2024-07-31</td>\n",
       "      <td>Witnessing quantum correlation in real, practi...</td>\n",
       "      <td>quant-ph</td>\n",
       "      <td>quant-ph</td>\n",
       "      <td>[http://arxiv.org/abs/2407.21730v1, http://arx...</td>\n",
       "    </tr>\n",
       "    <tr>\n",
       "      <th>15</th>\n",
       "      <td>A General and Transferable Local Hybrid Functi...</td>\n",
       "      <td>Christof Holzer, Yannick J. Franzke</td>\n",
       "      <td>2024-07-31</td>\n",
       "      <td>Density functional theory has become the workh...</td>\n",
       "      <td>physics.chem-ph</td>\n",
       "      <td>physics.chem-ph</td>\n",
       "      <td>[http://arxiv.org/abs/2407.21727v1, http://arx...</td>\n",
       "    </tr>\n",
       "    <tr>\n",
       "      <th>16</th>\n",
       "      <td>Coordinating Decisions via Quantum Telepathy</td>\n",
       "      <td>Dawei Ding, Liang Jiang</td>\n",
       "      <td>2024-07-31</td>\n",
       "      <td>Quantum telepathy, or pseudotelepathy, is the ...</td>\n",
       "      <td>quant-ph</td>\n",
       "      <td>quant-ph</td>\n",
       "      <td>[http://arxiv.org/abs/2407.21723v1, http://arx...</td>\n",
       "    </tr>\n",
       "    <tr>\n",
       "      <th>17</th>\n",
       "      <td>Dephasing-assisted transport in a tight-bindin...</td>\n",
       "      <td>Samuel L. Jacob, Laetitia P. Bettman, Artur M....</td>\n",
       "      <td>2024-07-31</td>\n",
       "      <td>An environment interacting with a quantum syst...</td>\n",
       "      <td>cond-mat.stat-mech</td>\n",
       "      <td>cond-mat.stat-mech, cond-mat.mes-hall, quant-ph</td>\n",
       "      <td>[http://arxiv.org/abs/2407.21715v1, http://arx...</td>\n",
       "    </tr>\n",
       "    <tr>\n",
       "      <th>18</th>\n",
       "      <td>Private and Robust States for Distributed Quan...</td>\n",
       "      <td>Luís Bugalho, Majid Hassani, Yasser Omar, Dami...</td>\n",
       "      <td>2024-07-31</td>\n",
       "      <td>Distributed quantum sensing enables the estima...</td>\n",
       "      <td>quant-ph</td>\n",
       "      <td>quant-ph</td>\n",
       "      <td>[http://arxiv.org/abs/2407.21701v1, http://arx...</td>\n",
       "    </tr>\n",
       "    <tr>\n",
       "      <th>19</th>\n",
       "      <td>Four-loop two-mass tadpoles and the $ρ$ parameter</td>\n",
       "      <td>Samuel Abreu, Arnd Behring, Andrew McLeod, Ben...</td>\n",
       "      <td>2024-07-31</td>\n",
       "      <td>We calculate four-loop QCD corrections to the ...</td>\n",
       "      <td>hep-ph</td>\n",
       "      <td>hep-ph</td>\n",
       "      <td>[http://arxiv.org/abs/2407.21700v1, http://arx...</td>\n",
       "    </tr>\n",
       "    <tr>\n",
       "      <th>20</th>\n",
       "      <td>Experimentally probing Landauer's principle in...</td>\n",
       "      <td>Stefan Aimet, Mohammadamin Tajik, Gabrielle To...</td>\n",
       "      <td>2024-07-31</td>\n",
       "      <td>Landauer's principle bridges information theor...</td>\n",
       "      <td>quant-ph</td>\n",
       "      <td>quant-ph</td>\n",
       "      <td>[http://arxiv.org/abs/2407.21690v1, http://arx...</td>\n",
       "    </tr>\n",
       "    <tr>\n",
       "      <th>21</th>\n",
       "      <td>SQUIDs for detection of potential dark matter ...</td>\n",
       "      <td>Siddarth Sivakumar, Manan Agarwal, Hannah Rana</td>\n",
       "      <td>2024-07-31</td>\n",
       "      <td>Superconducting QUantum Interference Devices (...</td>\n",
       "      <td>astro-ph.IM</td>\n",
       "      <td>astro-ph.IM, physics.ins-det, quant-ph</td>\n",
       "      <td>[http://arxiv.org/abs/2407.21689v1, http://arx...</td>\n",
       "    </tr>\n",
       "    <tr>\n",
       "      <th>22</th>\n",
       "      <td>Twirled worlds: symmetry-induced failures of t...</td>\n",
       "      <td>Daniel Centeno, Marco Erba, David Schmid, John...</td>\n",
       "      <td>2024-07-31</td>\n",
       "      <td>Tomographic locality is a principle commonly u...</td>\n",
       "      <td>quant-ph</td>\n",
       "      <td>quant-ph</td>\n",
       "      <td>[http://arxiv.org/abs/2407.21688v1, http://arx...</td>\n",
       "    </tr>\n",
       "    <tr>\n",
       "      <th>23</th>\n",
       "      <td>Homogeneous Magnetic Flux in Rydberg Lattices</td>\n",
       "      <td>Joseph Eix, Rukmani Bai, Thierry Lahaye, Antoi...</td>\n",
       "      <td>2024-07-31</td>\n",
       "      <td>We present a method for generating homogeneous...</td>\n",
       "      <td>quant-ph</td>\n",
       "      <td>quant-ph, cond-mat.quant-gas</td>\n",
       "      <td>[http://arxiv.org/abs/2407.21681v1, http://arx...</td>\n",
       "    </tr>\n",
       "    <tr>\n",
       "      <th>24</th>\n",
       "      <td>Slow decay rate of correlations induced by lon...</td>\n",
       "      <td>Tanoy Kanti Konar, Leela Ganesh Chandra Lakkar...</td>\n",
       "      <td>2024-07-31</td>\n",
       "      <td>We examine the impact of long-range Dzyaloshin...</td>\n",
       "      <td>quant-ph</td>\n",
       "      <td>quant-ph, cond-mat.mes-hall, cond-mat.quant-ga...</td>\n",
       "      <td>[http://arxiv.org/abs/2407.21668v1, http://arx...</td>\n",
       "    </tr>\n",
       "  </tbody>\n",
       "</table>\n",
       "</div>"
      ],
      "text/plain": [
       "                                                title  \\\n",
       "0   Non-equilibrium dynamics of symmetry-resolved ...   \n",
       "1   Non-equilibrium dynamics of charged dual-unita...   \n",
       "2   A concrete construction of a topological opera...   \n",
       "3             Lanczos for lattice QCD matrix elements   \n",
       "4   Properties of Krylov state complexity in qubit...   \n",
       "5                       Shadow Hamiltonian Simulation   \n",
       "6   Spurious Solar-Wind Effects on Acceleration No...   \n",
       "7   Engineering a multi-level bath for transmon wi...   \n",
       "8       Energy Transport Among Highly-Polarized Atoms   \n",
       "9   Minimal Quantum Circuits for Simulating Fibona...   \n",
       "10  No-Go Theorems for Universal Entanglement Puri...   \n",
       "11  Energy-time uncertainty relation from entropy ...   \n",
       "12   Rabinowitz Floer homology as a Tate vector space   \n",
       "13  An open-source framework for quantum hardware ...   \n",
       "14  Linking quantum discord with Bayesian game theory   \n",
       "15  A General and Transferable Local Hybrid Functi...   \n",
       "16       Coordinating Decisions via Quantum Telepathy   \n",
       "17  Dephasing-assisted transport in a tight-bindin...   \n",
       "18  Private and Robust States for Distributed Quan...   \n",
       "19  Four-loop two-mass tadpoles and the $ρ$ parameter   \n",
       "20  Experimentally probing Landauer's principle in...   \n",
       "21  SQUIDs for detection of potential dark matter ...   \n",
       "22  Twirled worlds: symmetry-induced failures of t...   \n",
       "23      Homogeneous Magnetic Flux in Rydberg Lattices   \n",
       "24  Slow decay rate of correlations induced by lon...   \n",
       "\n",
       "                                              authors   published  \\\n",
       "0                                        Katja Klobas  2024-07-31   \n",
       "1   Alessandro Foligno, Pasquale Calabrese, Bruno ...  2024-07-31   \n",
       "2                                    Masashi Kawahira  2024-07-31   \n",
       "3                Daniel C. Hackett, Michael L. Wagman  2024-07-31   \n",
       "4   Siddharth Seetharaman, Chetanya Singh, Rejish ...  2024-07-31   \n",
       "5   Rolando D. Somma, Robbie King, Robin Kothari, ...  2024-07-31   \n",
       "6   Arnold Yang, Indie Desiderio-Sloane, Grant Dav...  2024-07-31   \n",
       "7   Xi Cao, Maria Mucci, Gangqiang Liu, David Pekk...  2024-07-31   \n",
       "8   Catherine D. Opsahl, Yuan Jiang, Samantha A. G...  2024-07-31   \n",
       "9   Sary Bseiso, Joel Pommerening, Richard R. Alle...  2024-07-31   \n",
       "10  Allen Zang, Xinan Chen, Eric Chitambar, Martin...  2024-07-31   \n",
       "11  Nana Cabo Bizet, Octavio Obregón, Wilfredo Yup...  2024-07-31   \n",
       "12                    Kai Cieliebak, Alexandru Oancea  2024-07-31   \n",
       "13  Edoardo Pedicillo, Alessandro Candido, Stavros...  2024-07-31   \n",
       "14                                          Adam Lowe  2024-07-31   \n",
       "15                Christof Holzer, Yannick J. Franzke  2024-07-31   \n",
       "16                            Dawei Ding, Liang Jiang  2024-07-31   \n",
       "17  Samuel L. Jacob, Laetitia P. Bettman, Artur M....  2024-07-31   \n",
       "18  Luís Bugalho, Majid Hassani, Yasser Omar, Dami...  2024-07-31   \n",
       "19  Samuel Abreu, Arnd Behring, Andrew McLeod, Ben...  2024-07-31   \n",
       "20  Stefan Aimet, Mohammadamin Tajik, Gabrielle To...  2024-07-31   \n",
       "21     Siddarth Sivakumar, Manan Agarwal, Hannah Rana  2024-07-31   \n",
       "22  Daniel Centeno, Marco Erba, David Schmid, John...  2024-07-31   \n",
       "23  Joseph Eix, Rukmani Bai, Thierry Lahaye, Antoi...  2024-07-31   \n",
       "24  Tanoy Kanti Konar, Leela Ganesh Chandra Lakkar...  2024-07-31   \n",
       "\n",
       "                                              summary    primary_category  \\\n",
       "0   Symmetry resolved entanglement and entanglemen...  cond-mat.stat-mech   \n",
       "1   The interplay between symmetries and entanglem...  cond-mat.stat-mech   \n",
       "2   Factorization algebras play a central role in ...              hep-th   \n",
       "3   Recent work found that an analysis formalism b...             hep-lat   \n",
       "4   We analyze the properties of Krylov state comp...            quant-ph   \n",
       "5   We present shadow Hamiltonian simulation, a fr...            quant-ph   \n",
       "6   Spurious solar-wind effects are a potential no...    physics.space-ph   \n",
       "7   A photonic system with a tunable bath environm...            quant-ph   \n",
       "8   A static electric field of a few V/cm shifts t...     physics.atom-ph   \n",
       "9   The Fibonacci topological order is the prime c...            quant-ph   \n",
       "10  An entanglement purification protocol (EPP) ai...            quant-ph   \n",
       "11  The Generalized Uncertainty Principle (GUP) mo...              hep-th   \n",
       "12  We show that the category of linearly topologi...             math.SG   \n",
       "13  The development of quantum computers needs rel...            quant-ph   \n",
       "14  Witnessing quantum correlation in real, practi...            quant-ph   \n",
       "15  Density functional theory has become the workh...     physics.chem-ph   \n",
       "16  Quantum telepathy, or pseudotelepathy, is the ...            quant-ph   \n",
       "17  An environment interacting with a quantum syst...  cond-mat.stat-mech   \n",
       "18  Distributed quantum sensing enables the estima...            quant-ph   \n",
       "19  We calculate four-loop QCD corrections to the ...              hep-ph   \n",
       "20  Landauer's principle bridges information theor...            quant-ph   \n",
       "21  Superconducting QUantum Interference Devices (...         astro-ph.IM   \n",
       "22  Tomographic locality is a principle commonly u...            quant-ph   \n",
       "23  We present a method for generating homogeneous...            quant-ph   \n",
       "24  We examine the impact of long-range Dzyaloshin...            quant-ph   \n",
       "\n",
       "                                           categories  \\\n",
       "0      cond-mat.stat-mech, nlin.CG, nlin.SI, quant-ph   \n",
       "1   cond-mat.stat-mech, hep-th, math-ph, math.MP, ...   \n",
       "2                            hep-th, math-ph, math.MP   \n",
       "3                                             hep-lat   \n",
       "4                        quant-ph, cond-mat.quant-gas   \n",
       "5                                            quant-ph   \n",
       "6                physics.space-ph, astro-ph.IM, gr-qc   \n",
       "7                                            quant-ph   \n",
       "8                           physics.atom-ph, quant-ph   \n",
       "9         quant-ph, cond-mat.str-el, math-ph, math.MP   \n",
       "10                                           quant-ph   \n",
       "11                                      hep-th, gr-qc   \n",
       "12  math.SG, math.FA, math.QA, 57R58, 46A20, 46M05...   \n",
       "13                                           quant-ph   \n",
       "14                                           quant-ph   \n",
       "15                                    physics.chem-ph   \n",
       "16                                           quant-ph   \n",
       "17    cond-mat.stat-mech, cond-mat.mes-hall, quant-ph   \n",
       "18                                           quant-ph   \n",
       "19                                             hep-ph   \n",
       "20                                           quant-ph   \n",
       "21             astro-ph.IM, physics.ins-det, quant-ph   \n",
       "22                                           quant-ph   \n",
       "23                       quant-ph, cond-mat.quant-gas   \n",
       "24  quant-ph, cond-mat.mes-hall, cond-mat.quant-ga...   \n",
       "\n",
       "                                                links  \n",
       "0   [http://arxiv.org/abs/2407.21793v1, http://arx...  \n",
       "1   [http://arxiv.org/abs/2407.21786v1, http://arx...  \n",
       "2   [http://arxiv.org/abs/2407.21784v1, http://arx...  \n",
       "3   [http://arxiv.org/abs/2407.21777v1, http://arx...  \n",
       "4   [http://arxiv.org/abs/2407.21776v2, http://arx...  \n",
       "5   [http://arxiv.org/abs/2407.21775v1, http://arx...  \n",
       "6   [http://arxiv.org/abs/2407.21774v1, http://arx...  \n",
       "7   [http://arxiv.org/abs/2407.21765v1, http://arx...  \n",
       "8   [http://arxiv.org/abs/2407.21764v1, http://arx...  \n",
       "9   [http://arxiv.org/abs/2407.21761v1, http://arx...  \n",
       "10  [http://arxiv.org/abs/2407.21760v1, http://arx...  \n",
       "11  [http://arxiv.org/abs/2407.21746v1, http://arx...  \n",
       "12  [http://arxiv.org/abs/2407.21741v1, http://arx...  \n",
       "13  [http://arxiv.org/abs/2407.21737v1, http://arx...  \n",
       "14  [http://arxiv.org/abs/2407.21730v1, http://arx...  \n",
       "15  [http://arxiv.org/abs/2407.21727v1, http://arx...  \n",
       "16  [http://arxiv.org/abs/2407.21723v1, http://arx...  \n",
       "17  [http://arxiv.org/abs/2407.21715v1, http://arx...  \n",
       "18  [http://arxiv.org/abs/2407.21701v1, http://arx...  \n",
       "19  [http://arxiv.org/abs/2407.21700v1, http://arx...  \n",
       "20  [http://arxiv.org/abs/2407.21690v1, http://arx...  \n",
       "21  [http://arxiv.org/abs/2407.21689v1, http://arx...  \n",
       "22  [http://arxiv.org/abs/2407.21688v1, http://arx...  \n",
       "23  [http://arxiv.org/abs/2407.21681v1, http://arx...  \n",
       "24  [http://arxiv.org/abs/2407.21668v1, http://arx...  "
      ]
     },
     "execution_count": 5,
     "metadata": {},
     "output_type": "execute_result"
    }
   ],
   "source": [
    "df"
   ]
  },
  {
   "cell_type": "code",
   "execution_count": 25,
   "metadata": {},
   "outputs": [
    {
     "name": "stderr",
     "output_type": "stream",
     "text": [
      "A parameter name that contains `beta` will be renamed internally to `bias`. Please use a different name to suppress this warning.\n",
      "A parameter name that contains `gamma` will be renamed internally to `weight`. Please use a different name to suppress this warning.\n",
      "A parameter name that contains `beta` will be renamed internally to `bias`. Please use a different name to suppress this warning.\n",
      "A parameter name that contains `gamma` will be renamed internally to `weight`. Please use a different name to suppress this warning.\n",
      "A parameter name that contains `beta` will be renamed internally to `bias`. Please use a different name to suppress this warning.\n",
      "A parameter name that contains `gamma` will be renamed internally to `weight`. Please use a different name to suppress this warning.\n",
      "A parameter name that contains `beta` will be renamed internally to `bias`. Please use a different name to suppress this warning.\n",
      "A parameter name that contains `gamma` will be renamed internally to `weight`. Please use a different name to suppress this warning.\n",
      "A parameter name that contains `beta` will be renamed internally to `bias`. Please use a different name to suppress this warning.\n",
      "A parameter name that contains `gamma` will be renamed internally to `weight`. Please use a different name to suppress this warning.\n",
      "A parameter name that contains `beta` will be renamed internally to `bias`. Please use a different name to suppress this warning.\n",
      "A parameter name that contains `gamma` will be renamed internally to `weight`. Please use a different name to suppress this warning.\n",
      "A parameter name that contains `beta` will be renamed internally to `bias`. Please use a different name to suppress this warning.\n",
      "A parameter name that contains `gamma` will be renamed internally to `weight`. Please use a different name to suppress this warning.\n",
      "A parameter name that contains `beta` will be renamed internally to `bias`. Please use a different name to suppress this warning.\n",
      "A parameter name that contains `gamma` will be renamed internally to `weight`. Please use a different name to suppress this warning.\n",
      "A parameter name that contains `beta` will be renamed internally to `bias`. Please use a different name to suppress this warning.\n",
      "A parameter name that contains `gamma` will be renamed internally to `weight`. Please use a different name to suppress this warning.\n",
      "A parameter name that contains `beta` will be renamed internally to `bias`. Please use a different name to suppress this warning.\n",
      "A parameter name that contains `gamma` will be renamed internally to `weight`. Please use a different name to suppress this warning.\n",
      "A parameter name that contains `beta` will be renamed internally to `bias`. Please use a different name to suppress this warning.\n",
      "A parameter name that contains `gamma` will be renamed internally to `weight`. Please use a different name to suppress this warning.\n",
      "A parameter name that contains `beta` will be renamed internally to `bias`. Please use a different name to suppress this warning.\n",
      "A parameter name that contains `gamma` will be renamed internally to `weight`. Please use a different name to suppress this warning.\n",
      "A parameter name that contains `beta` will be renamed internally to `bias`. Please use a different name to suppress this warning.\n",
      "A parameter name that contains `gamma` will be renamed internally to `weight`. Please use a different name to suppress this warning.\n",
      "A parameter name that contains `beta` will be renamed internally to `bias`. Please use a different name to suppress this warning.\n",
      "A parameter name that contains `gamma` will be renamed internally to `weight`. Please use a different name to suppress this warning.\n",
      "A parameter name that contains `beta` will be renamed internally to `bias`. Please use a different name to suppress this warning.\n",
      "A parameter name that contains `gamma` will be renamed internally to `weight`. Please use a different name to suppress this warning.\n",
      "A parameter name that contains `beta` will be renamed internally to `bias`. Please use a different name to suppress this warning.\n",
      "A parameter name that contains `gamma` will be renamed internally to `weight`. Please use a different name to suppress this warning.\n",
      "A parameter name that contains `beta` will be renamed internally to `bias`. Please use a different name to suppress this warning.\n",
      "A parameter name that contains `gamma` will be renamed internally to `weight`. Please use a different name to suppress this warning.\n",
      "A parameter name that contains `beta` will be renamed internally to `bias`. Please use a different name to suppress this warning.\n",
      "A parameter name that contains `gamma` will be renamed internally to `weight`. Please use a different name to suppress this warning.\n",
      "A parameter name that contains `beta` will be renamed internally to `bias`. Please use a different name to suppress this warning.\n",
      "A parameter name that contains `gamma` will be renamed internally to `weight`. Please use a different name to suppress this warning.\n",
      "A parameter name that contains `beta` will be renamed internally to `bias`. Please use a different name to suppress this warning.\n",
      "A parameter name that contains `gamma` will be renamed internally to `weight`. Please use a different name to suppress this warning.\n",
      "A parameter name that contains `beta` will be renamed internally to `bias`. Please use a different name to suppress this warning.\n",
      "A parameter name that contains `gamma` will be renamed internally to `weight`. Please use a different name to suppress this warning.\n",
      "A parameter name that contains `beta` will be renamed internally to `bias`. Please use a different name to suppress this warning.\n",
      "A parameter name that contains `gamma` will be renamed internally to `weight`. Please use a different name to suppress this warning.\n",
      "A parameter name that contains `beta` will be renamed internally to `bias`. Please use a different name to suppress this warning.\n",
      "A parameter name that contains `gamma` will be renamed internally to `weight`. Please use a different name to suppress this warning.\n",
      "A parameter name that contains `beta` will be renamed internally to `bias`. Please use a different name to suppress this warning.\n",
      "A parameter name that contains `gamma` will be renamed internally to `weight`. Please use a different name to suppress this warning.\n",
      "A parameter name that contains `beta` will be renamed internally to `bias`. Please use a different name to suppress this warning.\n",
      "A parameter name that contains `gamma` will be renamed internally to `weight`. Please use a different name to suppress this warning.\n",
      "A parameter name that contains `beta` will be renamed internally to `bias`. Please use a different name to suppress this warning.\n",
      "A parameter name that contains `gamma` will be renamed internally to `weight`. Please use a different name to suppress this warning.\n"
     ]
    }
   ],
   "source": [
    "from transformers import BertTokenizer, BertModel\n",
    "import torch\n",
    "\n",
    "tokenizer = BertTokenizer.from_pretrained(\"bert-base-uncased\")\n",
    "model = BertModel.from_pretrained(\"bert-base-uncased\")\n",
    "df[\"emb_ti_auth_sum\"] = None\n",
    "\n",
    "paper_embeddings = []\n",
    "for idx, row in df.iterrows():\n",
    "    paper_info = row[\"authors\"] + \", \" + row[\"title\"] + \", \" + row[\"summary\"]\n",
    "    inputs = tokenizer(paper_info, return_tensors= \"pt\", max_length= 512, truncation= True, padding= True)\n",
    "\n",
    "    with torch.no_grad():\n",
    "        outputs = model(**inputs)\n",
    "\n",
    "    output_cls_token_emb = outputs.last_hidden_state[:, 0, :].squeeze().numpy()\n",
    "    df.at[idx, \"emb_ti_auth_sum\"] = output_cls_token_emb\n",
    "    paper_embeddings.append(output_cls_token_emb)"
   ]
  },
  {
   "cell_type": "code",
   "execution_count": 36,
   "metadata": {},
   "outputs": [
    {
     "data": {
      "application/vnd.plotly.v1+json": {
       "config": {
        "plotlyServerURL": "https://plot.ly"
       },
       "data": [
        {
         "hovertemplate": "color=cond-mat.stat-mech<br>x=%{x}<br>y=%{y}<br>z=%{z}<extra></extra>",
         "legendgroup": "cond-mat.stat-mech",
         "marker": {
          "color": "#636efa",
          "symbol": "circle"
         },
         "mode": "markers",
         "name": "cond-mat.stat-mech",
         "scene": "scene",
         "showlegend": true,
         "type": "scatter3d",
         "x": [
          3.3728190116191805,
          4.259715791629797,
          2.1909797954035346
         ],
         "y": [
          -2.172990673009543,
          -0.42877564743178165,
          2.677523750953764
         ],
         "z": [
          -0.8645673815418649,
          0.12270383241942782,
          -1.126064034782394
         ]
        },
        {
         "hovertemplate": "color=hep-th<br>x=%{x}<br>y=%{y}<br>z=%{z}<extra></extra>",
         "legendgroup": "hep-th",
         "marker": {
          "color": "#EF553B",
          "symbol": "circle"
         },
         "mode": "markers",
         "name": "hep-th",
         "scene": "scene",
         "showlegend": true,
         "type": "scatter3d",
         "x": [
          -2.349948441715651,
          4.881535568386868
         ],
         "y": [
          -5.3927949871008565,
          1.7828440911779158
         ],
         "z": [
          -0.20897580239227137,
          -1.9434443773107561
         ]
        },
        {
         "hovertemplate": "color=hep-lat<br>x=%{x}<br>y=%{y}<br>z=%{z}<extra></extra>",
         "legendgroup": "hep-lat",
         "marker": {
          "color": "#00cc96",
          "symbol": "circle"
         },
         "mode": "markers",
         "name": "hep-lat",
         "scene": "scene",
         "showlegend": true,
         "type": "scatter3d",
         "x": [
          -0.6256365671290267
         ],
         "y": [
          -0.564116970535402
         ],
         "z": [
          -0.39060631499297127
         ]
        },
        {
         "hovertemplate": "color=quant-ph<br>x=%{x}<br>y=%{y}<br>z=%{z}<extra></extra>",
         "legendgroup": "quant-ph",
         "marker": {
          "color": "#ab63fa",
          "symbol": "circle"
         },
         "mode": "markers",
         "name": "quant-ph",
         "scene": "scene",
         "showlegend": true,
         "type": "scatter3d",
         "x": [
          1.1325892859954898,
          1.4533433329828136,
          0.9830873599937395,
          -0.7083711864845386,
          -0.0002742359264483157,
          -4.7588599899831285,
          -3.866271207177207,
          2.8563427274507407,
          1.3201639046130897,
          -0.5789696415521693,
          0.8930454083926803,
          2.1134038262551096,
          4.582217112690837
         ],
         "y": [
          -2.3617390785184784,
          0.6864642763709002,
          0.6060830835081121,
          1.4277952141666375,
          -2.980966532216967,
          -0.3535485178006902,
          0.6120965709073081,
          -0.8205352205966634,
          2.6963190609805787,
          2.2058015754533895,
          -0.03200617323164292,
          -0.4368766083413081,
          2.5738835923322845
         ],
         "z": [
          1.3078766952425613,
          1.9291214053491974,
          -2.4763346823822125,
          -0.21710797210993654,
          0.5263940776557986,
          -2.3312319073221985,
          1.256150445052574,
          0.9747605842545901,
          2.9655868102691296,
          2.3624457022404566,
          -0.1128366687957632,
          -1.5240257722799793,
          1.4208581504368039
         ]
        },
        {
         "hovertemplate": "color=physics.space-ph<br>x=%{x}<br>y=%{y}<br>z=%{z}<extra></extra>",
         "legendgroup": "physics.space-ph",
         "marker": {
          "color": "#FFA15A",
          "symbol": "circle"
         },
         "mode": "markers",
         "name": "physics.space-ph",
         "scene": "scene",
         "showlegend": true,
         "type": "scatter3d",
         "x": [
          -3.262907532072057
         ],
         "y": [
          3.9297593246507523
         ],
         "z": [
          -5.541702682142596
         ]
        },
        {
         "hovertemplate": "color=physics.atom-ph<br>x=%{x}<br>y=%{y}<br>z=%{z}<extra></extra>",
         "legendgroup": "physics.atom-ph",
         "marker": {
          "color": "#19d3f3",
          "symbol": "circle"
         },
         "mode": "markers",
         "name": "physics.atom-ph",
         "scene": "scene",
         "showlegend": true,
         "type": "scatter3d",
         "x": [
          -1.8998199024702809
         ],
         "y": [
          -0.9999587920229822
         ],
         "z": [
          -0.37247342820374496
         ]
        },
        {
         "hovertemplate": "color=math.SG<br>x=%{x}<br>y=%{y}<br>z=%{z}<extra></extra>",
         "legendgroup": "math.SG",
         "marker": {
          "color": "#FF6692",
          "symbol": "circle"
         },
         "mode": "markers",
         "name": "math.SG",
         "scene": "scene",
         "showlegend": true,
         "type": "scatter3d",
         "x": [
          -1.567394414058605
         ],
         "y": [
          -4.959405725628035
         ],
         "z": [
          1.6397789870784216
         ]
        },
        {
         "hovertemplate": "color=physics.chem-ph<br>x=%{x}<br>y=%{y}<br>z=%{z}<extra></extra>",
         "legendgroup": "physics.chem-ph",
         "marker": {
          "color": "#B6E880",
          "symbol": "circle"
         },
         "mode": "markers",
         "name": "physics.chem-ph",
         "scene": "scene",
         "showlegend": true,
         "type": "scatter3d",
         "x": [
          -1.2489952303721172
         ],
         "y": [
          -1.396604334497943
         ],
         "z": [
          -0.49006273993341587
         ]
        },
        {
         "hovertemplate": "color=hep-ph<br>x=%{x}<br>y=%{y}<br>z=%{z}<extra></extra>",
         "legendgroup": "hep-ph",
         "marker": {
          "color": "#FF97FF",
          "symbol": "circle"
         },
         "mode": "markers",
         "name": "hep-ph",
         "scene": "scene",
         "showlegend": true,
         "type": "scatter3d",
         "x": [
          -3.2581426113033896
         ],
         "y": [
          -1.1857146077355807
         ],
         "z": [
          -0.6349964349632657
         ]
        },
        {
         "hovertemplate": "color=astro-ph.IM<br>x=%{x}<br>y=%{y}<br>z=%{z}<extra></extra>",
         "legendgroup": "astro-ph.IM",
         "marker": {
          "color": "#FECB52",
          "symbol": "circle"
         },
         "mode": "markers",
         "name": "astro-ph.IM",
         "scene": "scene",
         "showlegend": true,
         "type": "scatter3d",
         "x": [
          -5.913652165169258
         ],
         "y": [
          4.887463328166234
         ],
         "z": [
          3.7287535091544077
         ]
        }
       ],
       "layout": {
        "legend": {
         "title": {
          "text": "color"
         },
         "tracegroupgap": 0
        },
        "scene": {
         "domain": {
          "x": [
           0,
           1
          ],
          "y": [
           0,
           1
          ]
         },
         "xaxis": {
          "title": {
           "text": "x"
          }
         },
         "yaxis": {
          "title": {
           "text": "y"
          }
         },
         "zaxis": {
          "title": {
           "text": "z"
          }
         }
        },
        "template": {
         "data": {
          "bar": [
           {
            "error_x": {
             "color": "#2a3f5f"
            },
            "error_y": {
             "color": "#2a3f5f"
            },
            "marker": {
             "line": {
              "color": "#E5ECF6",
              "width": 0.5
             },
             "pattern": {
              "fillmode": "overlay",
              "size": 10,
              "solidity": 0.2
             }
            },
            "type": "bar"
           }
          ],
          "barpolar": [
           {
            "marker": {
             "line": {
              "color": "#E5ECF6",
              "width": 0.5
             },
             "pattern": {
              "fillmode": "overlay",
              "size": 10,
              "solidity": 0.2
             }
            },
            "type": "barpolar"
           }
          ],
          "carpet": [
           {
            "aaxis": {
             "endlinecolor": "#2a3f5f",
             "gridcolor": "white",
             "linecolor": "white",
             "minorgridcolor": "white",
             "startlinecolor": "#2a3f5f"
            },
            "baxis": {
             "endlinecolor": "#2a3f5f",
             "gridcolor": "white",
             "linecolor": "white",
             "minorgridcolor": "white",
             "startlinecolor": "#2a3f5f"
            },
            "type": "carpet"
           }
          ],
          "choropleth": [
           {
            "colorbar": {
             "outlinewidth": 0,
             "ticks": ""
            },
            "type": "choropleth"
           }
          ],
          "contour": [
           {
            "colorbar": {
             "outlinewidth": 0,
             "ticks": ""
            },
            "colorscale": [
             [
              0,
              "#0d0887"
             ],
             [
              0.1111111111111111,
              "#46039f"
             ],
             [
              0.2222222222222222,
              "#7201a8"
             ],
             [
              0.3333333333333333,
              "#9c179e"
             ],
             [
              0.4444444444444444,
              "#bd3786"
             ],
             [
              0.5555555555555556,
              "#d8576b"
             ],
             [
              0.6666666666666666,
              "#ed7953"
             ],
             [
              0.7777777777777778,
              "#fb9f3a"
             ],
             [
              0.8888888888888888,
              "#fdca26"
             ],
             [
              1,
              "#f0f921"
             ]
            ],
            "type": "contour"
           }
          ],
          "contourcarpet": [
           {
            "colorbar": {
             "outlinewidth": 0,
             "ticks": ""
            },
            "type": "contourcarpet"
           }
          ],
          "heatmap": [
           {
            "colorbar": {
             "outlinewidth": 0,
             "ticks": ""
            },
            "colorscale": [
             [
              0,
              "#0d0887"
             ],
             [
              0.1111111111111111,
              "#46039f"
             ],
             [
              0.2222222222222222,
              "#7201a8"
             ],
             [
              0.3333333333333333,
              "#9c179e"
             ],
             [
              0.4444444444444444,
              "#bd3786"
             ],
             [
              0.5555555555555556,
              "#d8576b"
             ],
             [
              0.6666666666666666,
              "#ed7953"
             ],
             [
              0.7777777777777778,
              "#fb9f3a"
             ],
             [
              0.8888888888888888,
              "#fdca26"
             ],
             [
              1,
              "#f0f921"
             ]
            ],
            "type": "heatmap"
           }
          ],
          "heatmapgl": [
           {
            "colorbar": {
             "outlinewidth": 0,
             "ticks": ""
            },
            "colorscale": [
             [
              0,
              "#0d0887"
             ],
             [
              0.1111111111111111,
              "#46039f"
             ],
             [
              0.2222222222222222,
              "#7201a8"
             ],
             [
              0.3333333333333333,
              "#9c179e"
             ],
             [
              0.4444444444444444,
              "#bd3786"
             ],
             [
              0.5555555555555556,
              "#d8576b"
             ],
             [
              0.6666666666666666,
              "#ed7953"
             ],
             [
              0.7777777777777778,
              "#fb9f3a"
             ],
             [
              0.8888888888888888,
              "#fdca26"
             ],
             [
              1,
              "#f0f921"
             ]
            ],
            "type": "heatmapgl"
           }
          ],
          "histogram": [
           {
            "marker": {
             "pattern": {
              "fillmode": "overlay",
              "size": 10,
              "solidity": 0.2
             }
            },
            "type": "histogram"
           }
          ],
          "histogram2d": [
           {
            "colorbar": {
             "outlinewidth": 0,
             "ticks": ""
            },
            "colorscale": [
             [
              0,
              "#0d0887"
             ],
             [
              0.1111111111111111,
              "#46039f"
             ],
             [
              0.2222222222222222,
              "#7201a8"
             ],
             [
              0.3333333333333333,
              "#9c179e"
             ],
             [
              0.4444444444444444,
              "#bd3786"
             ],
             [
              0.5555555555555556,
              "#d8576b"
             ],
             [
              0.6666666666666666,
              "#ed7953"
             ],
             [
              0.7777777777777778,
              "#fb9f3a"
             ],
             [
              0.8888888888888888,
              "#fdca26"
             ],
             [
              1,
              "#f0f921"
             ]
            ],
            "type": "histogram2d"
           }
          ],
          "histogram2dcontour": [
           {
            "colorbar": {
             "outlinewidth": 0,
             "ticks": ""
            },
            "colorscale": [
             [
              0,
              "#0d0887"
             ],
             [
              0.1111111111111111,
              "#46039f"
             ],
             [
              0.2222222222222222,
              "#7201a8"
             ],
             [
              0.3333333333333333,
              "#9c179e"
             ],
             [
              0.4444444444444444,
              "#bd3786"
             ],
             [
              0.5555555555555556,
              "#d8576b"
             ],
             [
              0.6666666666666666,
              "#ed7953"
             ],
             [
              0.7777777777777778,
              "#fb9f3a"
             ],
             [
              0.8888888888888888,
              "#fdca26"
             ],
             [
              1,
              "#f0f921"
             ]
            ],
            "type": "histogram2dcontour"
           }
          ],
          "mesh3d": [
           {
            "colorbar": {
             "outlinewidth": 0,
             "ticks": ""
            },
            "type": "mesh3d"
           }
          ],
          "parcoords": [
           {
            "line": {
             "colorbar": {
              "outlinewidth": 0,
              "ticks": ""
             }
            },
            "type": "parcoords"
           }
          ],
          "pie": [
           {
            "automargin": true,
            "type": "pie"
           }
          ],
          "scatter": [
           {
            "fillpattern": {
             "fillmode": "overlay",
             "size": 10,
             "solidity": 0.2
            },
            "type": "scatter"
           }
          ],
          "scatter3d": [
           {
            "line": {
             "colorbar": {
              "outlinewidth": 0,
              "ticks": ""
             }
            },
            "marker": {
             "colorbar": {
              "outlinewidth": 0,
              "ticks": ""
             }
            },
            "type": "scatter3d"
           }
          ],
          "scattercarpet": [
           {
            "marker": {
             "colorbar": {
              "outlinewidth": 0,
              "ticks": ""
             }
            },
            "type": "scattercarpet"
           }
          ],
          "scattergeo": [
           {
            "marker": {
             "colorbar": {
              "outlinewidth": 0,
              "ticks": ""
             }
            },
            "type": "scattergeo"
           }
          ],
          "scattergl": [
           {
            "marker": {
             "colorbar": {
              "outlinewidth": 0,
              "ticks": ""
             }
            },
            "type": "scattergl"
           }
          ],
          "scattermapbox": [
           {
            "marker": {
             "colorbar": {
              "outlinewidth": 0,
              "ticks": ""
             }
            },
            "type": "scattermapbox"
           }
          ],
          "scatterpolar": [
           {
            "marker": {
             "colorbar": {
              "outlinewidth": 0,
              "ticks": ""
             }
            },
            "type": "scatterpolar"
           }
          ],
          "scatterpolargl": [
           {
            "marker": {
             "colorbar": {
              "outlinewidth": 0,
              "ticks": ""
             }
            },
            "type": "scatterpolargl"
           }
          ],
          "scatterternary": [
           {
            "marker": {
             "colorbar": {
              "outlinewidth": 0,
              "ticks": ""
             }
            },
            "type": "scatterternary"
           }
          ],
          "surface": [
           {
            "colorbar": {
             "outlinewidth": 0,
             "ticks": ""
            },
            "colorscale": [
             [
              0,
              "#0d0887"
             ],
             [
              0.1111111111111111,
              "#46039f"
             ],
             [
              0.2222222222222222,
              "#7201a8"
             ],
             [
              0.3333333333333333,
              "#9c179e"
             ],
             [
              0.4444444444444444,
              "#bd3786"
             ],
             [
              0.5555555555555556,
              "#d8576b"
             ],
             [
              0.6666666666666666,
              "#ed7953"
             ],
             [
              0.7777777777777778,
              "#fb9f3a"
             ],
             [
              0.8888888888888888,
              "#fdca26"
             ],
             [
              1,
              "#f0f921"
             ]
            ],
            "type": "surface"
           }
          ],
          "table": [
           {
            "cells": {
             "fill": {
              "color": "#EBF0F8"
             },
             "line": {
              "color": "white"
             }
            },
            "header": {
             "fill": {
              "color": "#C8D4E3"
             },
             "line": {
              "color": "white"
             }
            },
            "type": "table"
           }
          ]
         },
         "layout": {
          "annotationdefaults": {
           "arrowcolor": "#2a3f5f",
           "arrowhead": 0,
           "arrowwidth": 1
          },
          "autotypenumbers": "strict",
          "coloraxis": {
           "colorbar": {
            "outlinewidth": 0,
            "ticks": ""
           }
          },
          "colorscale": {
           "diverging": [
            [
             0,
             "#8e0152"
            ],
            [
             0.1,
             "#c51b7d"
            ],
            [
             0.2,
             "#de77ae"
            ],
            [
             0.3,
             "#f1b6da"
            ],
            [
             0.4,
             "#fde0ef"
            ],
            [
             0.5,
             "#f7f7f7"
            ],
            [
             0.6,
             "#e6f5d0"
            ],
            [
             0.7,
             "#b8e186"
            ],
            [
             0.8,
             "#7fbc41"
            ],
            [
             0.9,
             "#4d9221"
            ],
            [
             1,
             "#276419"
            ]
           ],
           "sequential": [
            [
             0,
             "#0d0887"
            ],
            [
             0.1111111111111111,
             "#46039f"
            ],
            [
             0.2222222222222222,
             "#7201a8"
            ],
            [
             0.3333333333333333,
             "#9c179e"
            ],
            [
             0.4444444444444444,
             "#bd3786"
            ],
            [
             0.5555555555555556,
             "#d8576b"
            ],
            [
             0.6666666666666666,
             "#ed7953"
            ],
            [
             0.7777777777777778,
             "#fb9f3a"
            ],
            [
             0.8888888888888888,
             "#fdca26"
            ],
            [
             1,
             "#f0f921"
            ]
           ],
           "sequentialminus": [
            [
             0,
             "#0d0887"
            ],
            [
             0.1111111111111111,
             "#46039f"
            ],
            [
             0.2222222222222222,
             "#7201a8"
            ],
            [
             0.3333333333333333,
             "#9c179e"
            ],
            [
             0.4444444444444444,
             "#bd3786"
            ],
            [
             0.5555555555555556,
             "#d8576b"
            ],
            [
             0.6666666666666666,
             "#ed7953"
            ],
            [
             0.7777777777777778,
             "#fb9f3a"
            ],
            [
             0.8888888888888888,
             "#fdca26"
            ],
            [
             1,
             "#f0f921"
            ]
           ]
          },
          "colorway": [
           "#636efa",
           "#EF553B",
           "#00cc96",
           "#ab63fa",
           "#FFA15A",
           "#19d3f3",
           "#FF6692",
           "#B6E880",
           "#FF97FF",
           "#FECB52"
          ],
          "font": {
           "color": "#2a3f5f"
          },
          "geo": {
           "bgcolor": "white",
           "lakecolor": "white",
           "landcolor": "#E5ECF6",
           "showlakes": true,
           "showland": true,
           "subunitcolor": "white"
          },
          "hoverlabel": {
           "align": "left"
          },
          "hovermode": "closest",
          "mapbox": {
           "style": "light"
          },
          "paper_bgcolor": "white",
          "plot_bgcolor": "#E5ECF6",
          "polar": {
           "angularaxis": {
            "gridcolor": "white",
            "linecolor": "white",
            "ticks": ""
           },
           "bgcolor": "#E5ECF6",
           "radialaxis": {
            "gridcolor": "white",
            "linecolor": "white",
            "ticks": ""
           }
          },
          "scene": {
           "xaxis": {
            "backgroundcolor": "#E5ECF6",
            "gridcolor": "white",
            "gridwidth": 2,
            "linecolor": "white",
            "showbackground": true,
            "ticks": "",
            "zerolinecolor": "white"
           },
           "yaxis": {
            "backgroundcolor": "#E5ECF6",
            "gridcolor": "white",
            "gridwidth": 2,
            "linecolor": "white",
            "showbackground": true,
            "ticks": "",
            "zerolinecolor": "white"
           },
           "zaxis": {
            "backgroundcolor": "#E5ECF6",
            "gridcolor": "white",
            "gridwidth": 2,
            "linecolor": "white",
            "showbackground": true,
            "ticks": "",
            "zerolinecolor": "white"
           }
          },
          "shapedefaults": {
           "line": {
            "color": "#2a3f5f"
           }
          },
          "ternary": {
           "aaxis": {
            "gridcolor": "white",
            "linecolor": "white",
            "ticks": ""
           },
           "baxis": {
            "gridcolor": "white",
            "linecolor": "white",
            "ticks": ""
           },
           "bgcolor": "#E5ECF6",
           "caxis": {
            "gridcolor": "white",
            "linecolor": "white",
            "ticks": ""
           }
          },
          "title": {
           "x": 0.05
          },
          "xaxis": {
           "automargin": true,
           "gridcolor": "white",
           "linecolor": "white",
           "ticks": "",
           "title": {
            "standoff": 15
           },
           "zerolinecolor": "white",
           "zerolinewidth": 2
          },
          "yaxis": {
           "automargin": true,
           "gridcolor": "white",
           "linecolor": "white",
           "ticks": "",
           "title": {
            "standoff": 15
           },
           "zerolinecolor": "white",
           "zerolinewidth": 2
          }
         }
        },
        "title": {
         "text": "3D Visualisierung der Paper Embeddings"
        }
       }
      }
     },
     "metadata": {},
     "output_type": "display_data"
    }
   ],
   "source": [
    "from sklearn.decomposition import PCA\n",
    "import plotly.express as px\n",
    "from sklearn.metrics.pairwise import cosine_similarity\n",
    "\n",
    "cosine_similarities = cosine_similarity(df[\"emb_ti_auth_sum\"].values.tolist())\n",
    "#embeddings_array = torch.stack(df[\"emb_ti_auth_sum\"].values).detach().numpy()\n",
    "\n",
    "pca = PCA(n_components=3)\n",
    "embeddings_reduced = pca.fit_transform(df[\"emb_ti_auth_sum\"].values.tolist())\n",
    "\n",
    "fig = px.scatter_3d(\n",
    "    x=embeddings_reduced[:, 0], \n",
    "    y=embeddings_reduced[:, 1], \n",
    "    z=embeddings_reduced[:, 2],\n",
    "    title=\"3D Visualisierung der Paper Embeddings\",\n",
    "    color= df[\"primary_category\"],\n",
    ")\n",
    "\n",
    "fig.show()"
   ]
  },
  {
   "cell_type": "code",
   "execution_count": null,
   "metadata": {},
   "outputs": [],
   "source": [
    "# Code oben anpassen, idx, title auth prim_cat für jedes paper als label speichern und danach für jedes label über idx matchen um vis zu annotaten\n",
    "# vis: colobar nach der nähe der punkte zueinander definieren, cos, function das nach prim_cat gecolored wird"
   ]
  },
  {
   "cell_type": "code",
   "execution_count": 33,
   "metadata": {},
   "outputs": [
    {
     "data": {
      "application/vnd.plotly.v1+json": {
       "config": {
        "plotlyServerURL": "https://plot.ly"
       },
       "data": [
        {
         "marker": {
          "color": [
           "blue",
           "blue",
           "red",
           "green",
           "orange",
           "orange",
           "purple",
           "orange",
           "yellow",
           "orange",
           "orange",
           "red",
           "gray",
           "orange",
           "orange",
           "gray",
           "orange",
           "blue",
           "orange",
           "gray",
           "orange",
           "gray",
           "orange",
           "orange",
           "orange"
          ],
          "colorscale": [
           [
            0,
            "#440154"
           ],
           [
            0.1111111111111111,
            "#482878"
           ],
           [
            0.2222222222222222,
            "#3e4989"
           ],
           [
            0.3333333333333333,
            "#31688e"
           ],
           [
            0.4444444444444444,
            "#26828e"
           ],
           [
            0.5555555555555556,
            "#1f9e89"
           ],
           [
            0.6666666666666666,
            "#35b779"
           ],
           [
            0.7777777777777778,
            "#6ece58"
           ],
           [
            0.8888888888888888,
            "#b5de2b"
           ],
           [
            1,
            "#fde725"
           ]
          ],
          "opacity": 0.8,
          "size": 4
         },
         "mode": "markers",
         "type": "scatter3d",
         "x": [
          3.3729109942523716,
          4.259740600260784,
          -2.3499059473368584,
          -0.6255847410566973,
          1.132682036409674,
          1.453403479550682,
          -3.2629040347125287,
          0.9830202048011732,
          -1.8996658798620183,
          -0.7083844536941264,
          -0.00032358458251686463,
          4.881516544479972,
          -1.5675043270845868,
          -4.758829058686385,
          -3.86617676369069,
          -1.2491691096581736,
          2.856228012077283,
          2.1909958487914634,
          1.3201696426843488,
          -3.258174967618846,
          -0.5788717049302633,
          -5.913746152826971,
          0.8930133970687645,
          2.113368020989008,
          4.582191944375123
         ],
         "y": [
          -2.173185369555709,
          -0.4289568673078281,
          -5.393706348997826,
          -0.5648707064081943,
          -2.3613462604152886,
          0.686316982583165,
          3.929898646687554,
          0.6063595361845368,
          -1.0003050379939384,
          1.42791673865381,
          -2.9808393961503437,
          1.7828385273688234,
          -4.95877405684611,
          -0.35353731473188665,
          0.6119174402209835,
          -1.3958728745805047,
          -0.8201338145426895,
          2.677222258765721,
          2.6964838283729695,
          -1.1856653397814425,
          2.205159158698872,
          4.887728697796952,
          -0.03181205576049395,
          -0.43657286734914447,
          2.573736495087989
         ],
         "z": [
          -0.8619701500142296,
          0.12389575760437173,
          -0.20818073769414047,
          -0.3906247742533445,
          1.3112026545988724,
          1.929584403816891,
          -5.540856589914719,
          -2.476841610237371,
          -0.37240153392301373,
          -0.21656814666789345,
          0.5256276259443879,
          -1.9470884280798695,
          1.6361665347205883,
          -2.3307718973692317,
          1.2549275696659787,
          -0.49221093965080964,
          0.9738315742586755,
          -1.1272288936276533,
          2.9668536654979625,
          -0.6328986714453905,
          2.360933142762572,
          3.728929448375142,
          -0.11196566312955204,
          -1.5241252747805643,
          1.4217809335423415
         ]
        }
       ],
       "layout": {
        "scene": {
         "xaxis": {
          "title": {
           "text": "PCA 1"
          }
         },
         "yaxis": {
          "title": {
           "text": "PCA 2"
          }
         },
         "zaxis": {
          "title": {
           "text": "PCA 3"
          }
         }
        },
        "template": {
         "data": {
          "bar": [
           {
            "error_x": {
             "color": "#2a3f5f"
            },
            "error_y": {
             "color": "#2a3f5f"
            },
            "marker": {
             "line": {
              "color": "#E5ECF6",
              "width": 0.5
             },
             "pattern": {
              "fillmode": "overlay",
              "size": 10,
              "solidity": 0.2
             }
            },
            "type": "bar"
           }
          ],
          "barpolar": [
           {
            "marker": {
             "line": {
              "color": "#E5ECF6",
              "width": 0.5
             },
             "pattern": {
              "fillmode": "overlay",
              "size": 10,
              "solidity": 0.2
             }
            },
            "type": "barpolar"
           }
          ],
          "carpet": [
           {
            "aaxis": {
             "endlinecolor": "#2a3f5f",
             "gridcolor": "white",
             "linecolor": "white",
             "minorgridcolor": "white",
             "startlinecolor": "#2a3f5f"
            },
            "baxis": {
             "endlinecolor": "#2a3f5f",
             "gridcolor": "white",
             "linecolor": "white",
             "minorgridcolor": "white",
             "startlinecolor": "#2a3f5f"
            },
            "type": "carpet"
           }
          ],
          "choropleth": [
           {
            "colorbar": {
             "outlinewidth": 0,
             "ticks": ""
            },
            "type": "choropleth"
           }
          ],
          "contour": [
           {
            "colorbar": {
             "outlinewidth": 0,
             "ticks": ""
            },
            "colorscale": [
             [
              0,
              "#0d0887"
             ],
             [
              0.1111111111111111,
              "#46039f"
             ],
             [
              0.2222222222222222,
              "#7201a8"
             ],
             [
              0.3333333333333333,
              "#9c179e"
             ],
             [
              0.4444444444444444,
              "#bd3786"
             ],
             [
              0.5555555555555556,
              "#d8576b"
             ],
             [
              0.6666666666666666,
              "#ed7953"
             ],
             [
              0.7777777777777778,
              "#fb9f3a"
             ],
             [
              0.8888888888888888,
              "#fdca26"
             ],
             [
              1,
              "#f0f921"
             ]
            ],
            "type": "contour"
           }
          ],
          "contourcarpet": [
           {
            "colorbar": {
             "outlinewidth": 0,
             "ticks": ""
            },
            "type": "contourcarpet"
           }
          ],
          "heatmap": [
           {
            "colorbar": {
             "outlinewidth": 0,
             "ticks": ""
            },
            "colorscale": [
             [
              0,
              "#0d0887"
             ],
             [
              0.1111111111111111,
              "#46039f"
             ],
             [
              0.2222222222222222,
              "#7201a8"
             ],
             [
              0.3333333333333333,
              "#9c179e"
             ],
             [
              0.4444444444444444,
              "#bd3786"
             ],
             [
              0.5555555555555556,
              "#d8576b"
             ],
             [
              0.6666666666666666,
              "#ed7953"
             ],
             [
              0.7777777777777778,
              "#fb9f3a"
             ],
             [
              0.8888888888888888,
              "#fdca26"
             ],
             [
              1,
              "#f0f921"
             ]
            ],
            "type": "heatmap"
           }
          ],
          "heatmapgl": [
           {
            "colorbar": {
             "outlinewidth": 0,
             "ticks": ""
            },
            "colorscale": [
             [
              0,
              "#0d0887"
             ],
             [
              0.1111111111111111,
              "#46039f"
             ],
             [
              0.2222222222222222,
              "#7201a8"
             ],
             [
              0.3333333333333333,
              "#9c179e"
             ],
             [
              0.4444444444444444,
              "#bd3786"
             ],
             [
              0.5555555555555556,
              "#d8576b"
             ],
             [
              0.6666666666666666,
              "#ed7953"
             ],
             [
              0.7777777777777778,
              "#fb9f3a"
             ],
             [
              0.8888888888888888,
              "#fdca26"
             ],
             [
              1,
              "#f0f921"
             ]
            ],
            "type": "heatmapgl"
           }
          ],
          "histogram": [
           {
            "marker": {
             "pattern": {
              "fillmode": "overlay",
              "size": 10,
              "solidity": 0.2
             }
            },
            "type": "histogram"
           }
          ],
          "histogram2d": [
           {
            "colorbar": {
             "outlinewidth": 0,
             "ticks": ""
            },
            "colorscale": [
             [
              0,
              "#0d0887"
             ],
             [
              0.1111111111111111,
              "#46039f"
             ],
             [
              0.2222222222222222,
              "#7201a8"
             ],
             [
              0.3333333333333333,
              "#9c179e"
             ],
             [
              0.4444444444444444,
              "#bd3786"
             ],
             [
              0.5555555555555556,
              "#d8576b"
             ],
             [
              0.6666666666666666,
              "#ed7953"
             ],
             [
              0.7777777777777778,
              "#fb9f3a"
             ],
             [
              0.8888888888888888,
              "#fdca26"
             ],
             [
              1,
              "#f0f921"
             ]
            ],
            "type": "histogram2d"
           }
          ],
          "histogram2dcontour": [
           {
            "colorbar": {
             "outlinewidth": 0,
             "ticks": ""
            },
            "colorscale": [
             [
              0,
              "#0d0887"
             ],
             [
              0.1111111111111111,
              "#46039f"
             ],
             [
              0.2222222222222222,
              "#7201a8"
             ],
             [
              0.3333333333333333,
              "#9c179e"
             ],
             [
              0.4444444444444444,
              "#bd3786"
             ],
             [
              0.5555555555555556,
              "#d8576b"
             ],
             [
              0.6666666666666666,
              "#ed7953"
             ],
             [
              0.7777777777777778,
              "#fb9f3a"
             ],
             [
              0.8888888888888888,
              "#fdca26"
             ],
             [
              1,
              "#f0f921"
             ]
            ],
            "type": "histogram2dcontour"
           }
          ],
          "mesh3d": [
           {
            "colorbar": {
             "outlinewidth": 0,
             "ticks": ""
            },
            "type": "mesh3d"
           }
          ],
          "parcoords": [
           {
            "line": {
             "colorbar": {
              "outlinewidth": 0,
              "ticks": ""
             }
            },
            "type": "parcoords"
           }
          ],
          "pie": [
           {
            "automargin": true,
            "type": "pie"
           }
          ],
          "scatter": [
           {
            "fillpattern": {
             "fillmode": "overlay",
             "size": 10,
             "solidity": 0.2
            },
            "type": "scatter"
           }
          ],
          "scatter3d": [
           {
            "line": {
             "colorbar": {
              "outlinewidth": 0,
              "ticks": ""
             }
            },
            "marker": {
             "colorbar": {
              "outlinewidth": 0,
              "ticks": ""
             }
            },
            "type": "scatter3d"
           }
          ],
          "scattercarpet": [
           {
            "marker": {
             "colorbar": {
              "outlinewidth": 0,
              "ticks": ""
             }
            },
            "type": "scattercarpet"
           }
          ],
          "scattergeo": [
           {
            "marker": {
             "colorbar": {
              "outlinewidth": 0,
              "ticks": ""
             }
            },
            "type": "scattergeo"
           }
          ],
          "scattergl": [
           {
            "marker": {
             "colorbar": {
              "outlinewidth": 0,
              "ticks": ""
             }
            },
            "type": "scattergl"
           }
          ],
          "scattermapbox": [
           {
            "marker": {
             "colorbar": {
              "outlinewidth": 0,
              "ticks": ""
             }
            },
            "type": "scattermapbox"
           }
          ],
          "scatterpolar": [
           {
            "marker": {
             "colorbar": {
              "outlinewidth": 0,
              "ticks": ""
             }
            },
            "type": "scatterpolar"
           }
          ],
          "scatterpolargl": [
           {
            "marker": {
             "colorbar": {
              "outlinewidth": 0,
              "ticks": ""
             }
            },
            "type": "scatterpolargl"
           }
          ],
          "scatterternary": [
           {
            "marker": {
             "colorbar": {
              "outlinewidth": 0,
              "ticks": ""
             }
            },
            "type": "scatterternary"
           }
          ],
          "surface": [
           {
            "colorbar": {
             "outlinewidth": 0,
             "ticks": ""
            },
            "colorscale": [
             [
              0,
              "#0d0887"
             ],
             [
              0.1111111111111111,
              "#46039f"
             ],
             [
              0.2222222222222222,
              "#7201a8"
             ],
             [
              0.3333333333333333,
              "#9c179e"
             ],
             [
              0.4444444444444444,
              "#bd3786"
             ],
             [
              0.5555555555555556,
              "#d8576b"
             ],
             [
              0.6666666666666666,
              "#ed7953"
             ],
             [
              0.7777777777777778,
              "#fb9f3a"
             ],
             [
              0.8888888888888888,
              "#fdca26"
             ],
             [
              1,
              "#f0f921"
             ]
            ],
            "type": "surface"
           }
          ],
          "table": [
           {
            "cells": {
             "fill": {
              "color": "#EBF0F8"
             },
             "line": {
              "color": "white"
             }
            },
            "header": {
             "fill": {
              "color": "#C8D4E3"
             },
             "line": {
              "color": "white"
             }
            },
            "type": "table"
           }
          ]
         },
         "layout": {
          "annotationdefaults": {
           "arrowcolor": "#2a3f5f",
           "arrowhead": 0,
           "arrowwidth": 1
          },
          "autotypenumbers": "strict",
          "coloraxis": {
           "colorbar": {
            "outlinewidth": 0,
            "ticks": ""
           }
          },
          "colorscale": {
           "diverging": [
            [
             0,
             "#8e0152"
            ],
            [
             0.1,
             "#c51b7d"
            ],
            [
             0.2,
             "#de77ae"
            ],
            [
             0.3,
             "#f1b6da"
            ],
            [
             0.4,
             "#fde0ef"
            ],
            [
             0.5,
             "#f7f7f7"
            ],
            [
             0.6,
             "#e6f5d0"
            ],
            [
             0.7,
             "#b8e186"
            ],
            [
             0.8,
             "#7fbc41"
            ],
            [
             0.9,
             "#4d9221"
            ],
            [
             1,
             "#276419"
            ]
           ],
           "sequential": [
            [
             0,
             "#0d0887"
            ],
            [
             0.1111111111111111,
             "#46039f"
            ],
            [
             0.2222222222222222,
             "#7201a8"
            ],
            [
             0.3333333333333333,
             "#9c179e"
            ],
            [
             0.4444444444444444,
             "#bd3786"
            ],
            [
             0.5555555555555556,
             "#d8576b"
            ],
            [
             0.6666666666666666,
             "#ed7953"
            ],
            [
             0.7777777777777778,
             "#fb9f3a"
            ],
            [
             0.8888888888888888,
             "#fdca26"
            ],
            [
             1,
             "#f0f921"
            ]
           ],
           "sequentialminus": [
            [
             0,
             "#0d0887"
            ],
            [
             0.1111111111111111,
             "#46039f"
            ],
            [
             0.2222222222222222,
             "#7201a8"
            ],
            [
             0.3333333333333333,
             "#9c179e"
            ],
            [
             0.4444444444444444,
             "#bd3786"
            ],
            [
             0.5555555555555556,
             "#d8576b"
            ],
            [
             0.6666666666666666,
             "#ed7953"
            ],
            [
             0.7777777777777778,
             "#fb9f3a"
            ],
            [
             0.8888888888888888,
             "#fdca26"
            ],
            [
             1,
             "#f0f921"
            ]
           ]
          },
          "colorway": [
           "#636efa",
           "#EF553B",
           "#00cc96",
           "#ab63fa",
           "#FFA15A",
           "#19d3f3",
           "#FF6692",
           "#B6E880",
           "#FF97FF",
           "#FECB52"
          ],
          "font": {
           "color": "#2a3f5f"
          },
          "geo": {
           "bgcolor": "white",
           "lakecolor": "white",
           "landcolor": "#E5ECF6",
           "showlakes": true,
           "showland": true,
           "subunitcolor": "white"
          },
          "hoverlabel": {
           "align": "left"
          },
          "hovermode": "closest",
          "mapbox": {
           "style": "light"
          },
          "paper_bgcolor": "white",
          "plot_bgcolor": "#E5ECF6",
          "polar": {
           "angularaxis": {
            "gridcolor": "white",
            "linecolor": "white",
            "ticks": ""
           },
           "bgcolor": "#E5ECF6",
           "radialaxis": {
            "gridcolor": "white",
            "linecolor": "white",
            "ticks": ""
           }
          },
          "scene": {
           "xaxis": {
            "backgroundcolor": "#E5ECF6",
            "gridcolor": "white",
            "gridwidth": 2,
            "linecolor": "white",
            "showbackground": true,
            "ticks": "",
            "zerolinecolor": "white"
           },
           "yaxis": {
            "backgroundcolor": "#E5ECF6",
            "gridcolor": "white",
            "gridwidth": 2,
            "linecolor": "white",
            "showbackground": true,
            "ticks": "",
            "zerolinecolor": "white"
           },
           "zaxis": {
            "backgroundcolor": "#E5ECF6",
            "gridcolor": "white",
            "gridwidth": 2,
            "linecolor": "white",
            "showbackground": true,
            "ticks": "",
            "zerolinecolor": "white"
           }
          },
          "shapedefaults": {
           "line": {
            "color": "#2a3f5f"
           }
          },
          "ternary": {
           "aaxis": {
            "gridcolor": "white",
            "linecolor": "white",
            "ticks": ""
           },
           "baxis": {
            "gridcolor": "white",
            "linecolor": "white",
            "ticks": ""
           },
           "bgcolor": "#E5ECF6",
           "caxis": {
            "gridcolor": "white",
            "linecolor": "white",
            "ticks": ""
           }
          },
          "title": {
           "x": 0.05
          },
          "xaxis": {
           "automargin": true,
           "gridcolor": "white",
           "linecolor": "white",
           "ticks": "",
           "title": {
            "standoff": 15
           },
           "zerolinecolor": "white",
           "zerolinewidth": 2
          },
          "yaxis": {
           "automargin": true,
           "gridcolor": "white",
           "linecolor": "white",
           "ticks": "",
           "title": {
            "standoff": 15
           },
           "zerolinecolor": "white",
           "zerolinewidth": 2
          }
         }
        },
        "title": {
         "text": "3D Visualisierung der Paper Embeddings"
        }
       }
      }
     },
     "metadata": {},
     "output_type": "display_data"
    }
   ],
   "source": [
    "from sklearn.decomposition import PCA\n",
    "from sklearn.metrics.pairwise import cosine_similarity\n",
    "import plotly.graph_objects as go\n",
    "\n",
    "\n",
    "pca = PCA(n_components=3)\n",
    "embeddings_reduced = pca.fit_transform(df[\"emb_ti_auth_sum\"].values.tolist())\n",
    "\n",
    "# Calculate pairwise cosine similarities between all paper embeddings\n",
    "cosine_similarities = cosine_similarity(df[\"emb_ti_auth_sum\"].values.tolist())\n",
    "\n",
    "\n",
    "# Define a color mapping dictionary\n",
    "color_mapping_cos_sim = {\n",
    "\n",
    "}\n",
    "\n",
    "\n",
    "\n",
    "fig = go.Figure()\n",
    "\n",
    "fig.add_trace(go.Scatter3d(\n",
    "    x=embeddings_reduced[:, 0], \n",
    "    y=embeddings_reduced[:, 1], \n",
    "    z=embeddings_reduced[:, 2],\n",
    "    mode=\"markers\",\n",
    "    marker=dict(\n",
    "        size= 4,\n",
    "        color= \"\",\n",
    "        colorscale= \"Viridis\",\n",
    "        opacity= 0.8\n",
    "    )\n",
    "))\n",
    "\n",
    "fig.update_layout(\n",
    "    title=\"3D Visualisierung der Paper Embeddings\",\n",
    "    scene=dict(\n",
    "        xaxis_title=\"PCA 1\",\n",
    "        yaxis_title=\"PCA 2\",\n",
    "        zaxis_title=\"PCA 3\"\n",
    "    )\n",
    ")\n",
    "\n",
    "fig.show()"
   ]
  }
 ],
 "metadata": {
  "kernelspec": {
   "display_name": ".venv",
   "language": "python",
   "name": "python3"
  },
  "language_info": {
   "codemirror_mode": {
    "name": "ipython",
    "version": 3
   },
   "file_extension": ".py",
   "mimetype": "text/x-python",
   "name": "python",
   "nbconvert_exporter": "python",
   "pygments_lexer": "ipython3",
   "version": "3.12.2"
  }
 },
 "nbformat": 4,
 "nbformat_minor": 2
}
